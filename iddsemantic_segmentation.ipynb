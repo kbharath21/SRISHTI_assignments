{
  "nbformat": 4,
  "nbformat_minor": 0,
  "metadata": {
    "colab": {
      "provenance": [],
      "machine_shape": "hm",
      "include_colab_link": true
    },
    "kernelspec": {
      "name": "python3",
      "display_name": "Python 3"
    },
    "accelerator": "GPU"
  },
  "cells": [
    {
      "cell_type": "markdown",
      "metadata": {
        "id": "view-in-github",
        "colab_type": "text"
      },
      "source": [
        "<a href=\"https://colab.research.google.com/github/kbharath21/SRISHTI_assignments/blob/main/iddsemantic_segmentation.ipynb\" target=\"_parent\"><img src=\"https://colab.research.google.com/assets/colab-badge.svg\" alt=\"Open In Colab\"/></a>"
      ]
    },
    {
      "cell_type": "markdown",
      "source": [
        "# **SRISHTI - 24 IDD Dataset Semantic Segmentation**\n"
      ],
      "metadata": {
        "id": "B_I3apnzsRYY"
      }
    },
    {
      "cell_type": "markdown",
      "source": [
        "**Introduction**\n",
        "\n",
        "The task of semantic segmentation, a fundamental aspect of computer vision, involves dividing an image into meaningful segments to understand its content. It finds applications in various fields such as autonomous driving, medical imaging, and satellite imagery analysis. In this project, we focus on implementing a UNet architecture with a ResNet50 encoder for semantic segmentation tasks. By combining these architectures, we aim to develop an efficient model capable of accurately segmenting objects and regions of interest in images. Throughout this project, we will discuss data preprocessing, model construction, and training strategies to achieve optimal performance on our dataset."
      ],
      "metadata": {
        "id": "DLzveN8wqgVh"
      }
    },
    {
      "cell_type": "code",
      "metadata": {
        "id": "ReOLVEojnLvu",
        "outputId": "4bd991ae-f0f0-4469-ead2-d9f77d348eb1",
        "colab": {
          "base_uri": "https://localhost:8080/",
          "height": 51
        }
      },
      "source": [
        "%tensorflow_version 2.x\n",
        "import tensorflow as tf\n",
        "print(tf.__version__)\n",
        "print(tf.keras.__version__)"
      ],
      "execution_count": null,
      "outputs": [
        {
          "output_type": "stream",
          "text": [
            "2.2.0-rc1\n",
            "2.2.4-tf\n"
          ],
          "name": "stdout"
        }
      ]
    },
    {
      "cell_type": "code",
      "metadata": {
        "id": "IHli7lfspQGK"
      },
      "source": [
        "import warnings\n",
        "from glob import glob\n",
        "import gc\n",
        "import cv2\n",
        "import os\n",
        "from tensorflow.keras import optimizers\n",
        "import time\n",
        "warnings.filterwarnings(\"ignore\")\n",
        "import time\n",
        "import numpy as np\n",
        "import seaborn as sns\n",
        "import math\n",
        "import tqdm\n",
        "import matplotlib.pyplot as plt\n",
        "%matplotlib inline\n",
        "import tensorflow as tf\n",
        "from tensorflow.keras.losses import binary_crossentropy\n",
        "from tensorflow.keras.models import Sequential\n",
        "from tensorflow.keras.layers import *\n",
        "from tensorflow.keras.preprocessing import sequence\n",
        "from tensorflow.keras.layers import Input, Dropout, add, BatchNormalization, Bidirectional, concatenate, Flatten, Conv1D, MaxPool1D, LeakyReLU, ELU, SpatialDropout1D, MaxPooling1D, GlobalAveragePooling1D, GlobalMaxPooling1D\n",
        "from tensorflow.keras.callbacks import ModelCheckpoint, EarlyStopping, TensorBoard, ReduceLROnPlateau\n",
        "from tensorflow.keras import regularizers\n",
        "from sklearn.feature_extraction.text import TfidfVectorizer\n",
        "from tensorflow.keras import optimizers\n",
        "from tensorflow.keras.models import Model"
      ],
      "execution_count": null,
      "outputs": []
    },
    {
      "cell_type": "code",
      "source": [
        "path = r'C:\\Users\\kbkprojcts\\srishti24\\IDD'"
      ],
      "metadata": {
        "id": "9ZH5lBCNfWqw"
      },
      "execution_count": null,
      "outputs": []
    },
    {
      "cell_type": "markdown",
      "metadata": {
        "id": "aywJ5nO41YCx"
      },
      "source": [
        "### Loading the data and modelling"
      ]
    },
    {
      "cell_type": "code",
      "metadata": {
        "id": "1WYa7-Odsp7c"
      },
      "source": [
        "dataset_path = ''\n",
        "img_train = dataset_path + 'leftImg8bit/train/'\n",
        "seg_train = dataset_path + 'gtFine/train/'\n",
        "img_val = dataset_path + 'leftImg8bit/val/'\n",
        "seg_val = dataset_path + 'gtFine/val/'"
      ],
      "execution_count": null,
      "outputs": []
    },
    {
      "cell_type": "code",
      "metadata": {
        "id": "akV8Ud91uY2V"
      },
      "source": [
        "def VisualizeSegmentationImages(imagepath):\n",
        "  img_seg = cv2.imread(imagepath,0)\n",
        "\n",
        "  for i in range(len(img_seg)):\n",
        "    for j in range(len(img_seg[0])):\n",
        "        if img_seg[i][j] != 0 or img_seg[i][j] != 255:\n",
        "\n",
        "            img_seg[i][j] *= 40\n",
        "  plt.imshow(img_seg)\n"
      ],
      "execution_count": null,
      "outputs": []
    },
    {
      "cell_type": "code",
      "metadata": {
        "id": "9ltsA2NquY7e",
        "outputId": "0d574ca9-bb74-4988-921f-c610c2241316",
        "colab": {
          "base_uri": "https://localhost:8080/",
          "height": 286
        }
      },
      "source": [
        "img = cv2.imread(img_train+'0/024541_image.jpg',1)\n",
        "plt.imshow(img)"
      ],
      "execution_count": null,
      "outputs": [
        {
          "output_type": "execute_result",
          "data": {
            "text/plain": [
              "<matplotlib.image.AxesImage at 0x7ffa8f9c5198>"
            ]
          },
          "metadata": {
            "tags": []
          },
          "execution_count": 10
        },
        {
          "output_type": "display_data",
          "data": {
            "image/png": "[encoded data removed]",
            "text/plain": [
              "<Figure size 432x288 with 1 Axes>"
            ]
          },
          "metadata": {
            "tags": []
          }
        }
      ]
    },
    {
      "cell_type": "markdown",
      "metadata": {
        "id": "Jk7oZyJ2-tBC"
      },
      "source": [
        "**Masking**"
      ]
    },
    {
      "cell_type": "code",
      "metadata": {
        "id": "4xMPyqUpuZQt",
        "outputId": "bc3304db-5eb3-428d-a5f0-ca48c50500b9",
        "colab": {
          "base_uri": "https://localhost:8080/",
          "height": 269
        }
      },
      "source": [
        "img_seg = VisualizeSegmentationImages(seg_train+'0/024541_label.png')"
      ],
      "execution_count": null,
      "outputs": [
        {
          "output_type": "display_data",
          "data": {
            "image/png": "[encoded data removed]",
            "text/plain": [
              "<Figure size 432x288 with 1 Axes>"
            ]
          },
          "metadata": {
            "tags": []
          }
        }
      ]
    },
    {
      "cell_type": "code",
      "metadata": {
        "id": "qhqyQUb-lZgc"
      },
      "source": [
        "dataset_path = 'F:\\SRISHTI24\\IDDSemanticSegmentation\\SemanticSegmentation'\n",
        "img_train = dataset_path + 'leftImg8bit/train/'\n",
        "seg_train = dataset_path + 'gtFine/train/'\n",
        "\n",
        "\n",
        "img_val = dataset_path + 'leftImg8bit/val/'\n",
        "seg_val = dataset_path + 'gtFine/val/'"
      ],
      "execution_count": null,
      "outputs": []
    },
    {
      "cell_type": "code",
      "metadata": {
        "id": "N42YRWr5t1as",
        "outputId": "e786c374-1583-4881-d3da-e5df67ddd4de",
        "colab": {
          "base_uri": "https://localhost:8080/",
          "height": 34
        }
      },
      "source": [
        "mi, ma = 0,7\n",
        "n_classes = ma - mi + 1\n",
        "print(\"minimum seg = {}, maximum seg = {}, Total number of segmentation classes = {}\".format(mi,ma, n_classes))\n"
      ],
      "execution_count": null,
      "outputs": [
        {
          "output_type": "stream",
          "text": [
            "minimum seg = 0, maximum seg = 7, Total number of segmentation classes = 8\n"
          ],
          "name": "stdout"
        }
      ]
    },
    {
      "cell_type": "code",
      "metadata": {
        "id": "4UAQX5v8ppLm"
      },
      "source": [
        "\n",
        "def load_image_paths_from_folder(folder_path):\n",
        "  image_paths = glob(folder_path+'*/*_image.jpg')\n",
        "  return image_paths\n"
      ],
      "execution_count": null,
      "outputs": []
    },
    {
      "cell_type": "code",
      "metadata": {
        "id": "zyzvDTd_9U1a"
      },
      "source": [
        "x_train, y_train = [] , []\n",
        "x_val , y_val = [] , []"
      ],
      "execution_count": null,
      "outputs": []
    },
    {
      "cell_type": "code",
      "metadata": {
        "id": "O8vIechw56La"
      },
      "source": [
        "input_height , input_width = 128 , 256\n",
        "output_height , output_width = 128 , 256"
      ],
      "execution_count": null,
      "outputs": []
    },
    {
      "cell_type": "code",
      "metadata": {
        "id": "1GADaFln0pe-"
      },
      "source": [
        "def getImageArr( path , width , height ):\n",
        "        img = cv2.imread(path, 1)\n",
        "        img = np.float32(cv2.resize(img, ( width , height ))) / 255\n",
        "        return img\n",
        "\n",
        "def getSegmentationArr( path , nClasses ,  width , height  ):\n",
        "\n",
        "    seg_labels = np.zeros((  height , width  , nClasses ))\n",
        "    img = cv2.imread(path, 1)\n",
        "    img = cv2.resize(img, ( width , height ))\n",
        "    img = img[:, : , 0]\n",
        "    img[img == 255] = 7\n",
        "\n",
        "    for c in range(nClasses):\n",
        "        seg_labels[: , : , c ] = (img == c ).astype(int)\n",
        "    #print(seg_labels[:,:,6])\n",
        "    return seg_labels\n",
        "\n",
        "\n"
      ],
      "execution_count": null,
      "outputs": []
    },
    {
      "cell_type": "code",
      "metadata": {
        "id": "Hb9MyMrJlZvT"
      },
      "source": [
        "train_image_paths = load_image_paths_from_folder(img_train)\n",
        "train_seg_paths = [p.replace('leftImg8bit', 'gtFine').replace(\n",
        "    '_image.jpg', '_label.png') for p in train_image_paths]\n",
        "val_image_paths = load_image_paths_from_folder(img_val)\n",
        "val_seg_paths = [p.replace('leftImg8bit', 'gtFine').replace(\n",
        "    '_image.jpg', '_label.png') for p in val_image_paths]\n",
        "\n",
        "from numpy.random import seed\n",
        "seed(0)\n",
        "def image_generator(image_paths, batch_size=32):\n",
        "    while True:\n",
        "          num_samples = len(image_paths)\n",
        "          for offset in range(0, num_samples, batch_size):\n",
        "            batch_paths = image_paths[offset:offset+batch_size]\n",
        "            batch_input  = []\n",
        "            batch_output = []\n",
        "            for input_path in batch_paths:\n",
        "                image = getImageArr(input_path,input_width,input_height)\n",
        "                seg_path = input_path.replace('leftImg8bit', 'gtFine').replace(\\\n",
        "                  '_image.jpg', '_label.png')\n",
        "                seg_mask = getSegmentationArr(seg_path,n_classes,output_width,output_height)\n",
        "\n",
        "                batch_input.append(image)\n",
        "                batch_output.append(seg_mask)\n",
        "            batch_x = np.array( batch_input )\n",
        "            batch_y = np.array( batch_output )\n",
        "            yield( batch_x, batch_y )"
      ],
      "execution_count": null,
      "outputs": []
    },
    {
      "cell_type": "markdown",
      "metadata": {
        "id": "ANiRDxwniQ_P"
      },
      "source": [
        "**Using Custom Generator to Load Data Batch Wise**\n",
        "\n",
        "When dealing with large datasets, custom generators offer an efficient solution by loading data in manageable batches. This approach minimizes memory usage and enables on-the-fly preprocessing. Particularly useful for real-world cases, it allows for iterative processing and training. Custom generators are essential for tasks involving extensive datasets like images, audio, or text. They facilitate incremental training and enhance overall efficiency in machine learning workflows."
      ]
    },
    {
      "cell_type": "code",
      "metadata": {
        "id": "-IDUJ0CciiOS"
      },
      "source": [
        "train_gen = image_generator(train_image_paths, batch_size = 32)\n",
        "val_gen = image_generator(val_image_paths,batch_size=32)"
      ],
      "execution_count": null,
      "outputs": []
    },
    {
      "cell_type": "code",
      "metadata": {
        "id": "oqkfPjGt8qgl"
      },
      "source": [
        "def get_image_and_segmentation_arrays(img_path,seg_path):\n",
        "  X, Y= [],[]\n",
        "  for img , seg in zip(img_path, seg_path):\n",
        "    X.append(getImageArr(img,input_width,input_height))\n",
        "    Y.append(getSegmentationArr(seg,n_classes,output_width,output_height))\n",
        "  return X,Y\n"
      ],
      "execution_count": null,
      "outputs": []
    },
    {
      "cell_type": "markdown",
      "metadata": {
        "id": "unHdYYWAiXtP"
      },
      "source": [
        "#### If you want to preprocess all the train, validation data at once and use it for training use this section(Not ideal in real world)\n",
        "\n",
        "#### This works when you have large RAM to store the entire processed data"
      ]
    },
    {
      "cell_type": "code",
      "metadata": {
        "id": "_uwVyYuDfTbI",
        "outputId": "ebfcd79d-7ff2-4e76-b3b0-0ef2aaf2e9eb",
        "colab": {
          "base_uri": "https://localhost:8080/",
          "height": 51
        }
      },
      "source": [
        "# This block is for reusing alrady computed Image arrays as it takes considerable amount of time to genetate them\n",
        "# If using this block we can skip the next two blocks\n",
        "\n",
        "## loading from file\n",
        "# %%time\n",
        "# x_train = np.load(dataset_path+\"x_train.npy\")\n",
        "# y_train = np.load(dataset_path+\"y_train.npy\")\n",
        "\n",
        "# x_val = np.load(dataset_path+\"x_val.npy\")\n",
        "# y_val = np.load(dataset_path+\"y_val.npy\")"
      ],
      "execution_count": null,
      "outputs": [
        {
          "output_type": "stream",
          "text": [
            "CPU times: user 105 ms, sys: 4.09 s, total: 4.19 s\n",
            "Wall time: 2min 5s\n"
          ],
          "name": "stdout"
        }
      ]
    },
    {
      "cell_type": "code",
      "metadata": {
        "id": "rzx6seUH-981",
        "outputId": "bc58124d-47be-47b8-9031-db8ae911b35a",
        "colab": {
          "base_uri": "https://localhost:8080/",
          "height": 51
        }
      },
      "source": [
        "# %%time\n",
        "\n",
        "# x_train , y_train = get_image_and_segmentation_arrays(train_image_paths,train_seg_paths)"
      ],
      "execution_count": null,
      "outputs": [
        {
          "output_type": "stream",
          "text": [
            "CPU times: user 6.97 s, sys: 1.85 s, total: 8.83 s\n",
            "Wall time: 15.2 s\n"
          ],
          "name": "stdout"
        }
      ]
    },
    {
      "cell_type": "code",
      "metadata": {
        "id": "eoqpzqZg_lNT",
        "outputId": "ff6c94db-9e87-4605-a0ce-de573030ed6a",
        "colab": {
          "base_uri": "https://localhost:8080/",
          "height": 51
        }
      },
      "source": [
        "#%%time\n",
        "\n",
        "#x_val , y_val = get_image_and_segmentation_arrays(val_image_paths,val_seg_paths)"
      ],
      "execution_count": null,
      "outputs": [
        {
          "output_type": "stream",
          "text": [
            "CPU times: user 980 ms, sys: 349 ms, total: 1.33 s\n",
            "Wall time: 2min 4s\n"
          ],
          "name": "stdout"
        }
      ]
    },
    {
      "cell_type": "code",
      "metadata": {
        "id": "Q0LvtQu4bwtL"
      },
      "source": [
        "\n",
        "# # saving these results to avoid processing everytime\n",
        "\n",
        "# x_train_path = dataset_path+\"x_train.npy\"\n",
        "# y_train_path = dataset_path+\"y_train.npy\"\n",
        "\n",
        "# x_val_path = dataset_path+\"x_val.npy\"\n",
        "# y_val_path = dataset_path+\"y_val.npy\"\n",
        "\n",
        "\n",
        "# np.save(x_train_path,x_train)\n",
        "# np.save(y_train_path,y_train)\n",
        "# np.save(x_val_path,x_val)\n",
        "# np.save(y_val_path,y_val)"
      ],
      "execution_count": null,
      "outputs": []
    },
    {
      "cell_type": "code",
      "metadata": {
        "id": "742GQm_TE2l5"
      },
      "source": [
        "#x_train, y_train = np.array(x_train), np.array(y_train)\n",
        "#x_val, y_val = np.array(x_val),np.array(y_val)"
      ],
      "execution_count": null,
      "outputs": []
    },
    {
      "cell_type": "code",
      "metadata": {
        "id": "oQoL8kW1_zFM",
        "outputId": "76100a1d-16f8-4c10-9fed-9e582f64dd64",
        "colab": {
          "base_uri": "https://localhost:8080/",
          "height": 51
        }
      },
      "source": [
        "#print(x_train.shape, y_train.shape)\n",
        "#print(x_val.shape, y_val.shape)"
      ],
      "execution_count": null,
      "outputs": [
        {
          "output_type": "stream",
          "text": [
            "(1403, 128, 256, 3) (1403, 128, 256, 8)\n",
            "(204, 128, 256, 3) (204, 128, 256, 8)\n"
          ],
          "name": "stdout"
        }
      ]
    },
    {
      "cell_type": "markdown",
      "metadata": {
        "id": "JIvngNex3D3F"
      },
      "source": [
        "### Leveraging ResNet50 in UNet for Semantic Segmentation\n",
        "\n",
        "By integrating ResNet50 as the encoder in the UNet architecture, we harness the comprehensive feature extraction capabilities of ResNet50 to enhance semantic segmentation accuracy. This fusion combines the contextual understanding of UNet with the deep representation learning of ResNet50, resulting in a powerful model that excels in capturing both low-level and high-level features essential for accurate segmentation."
      ]
    },
    {
      "cell_type": "code",
      "metadata": {
        "id": "Oh07te74pWXu"
      },
      "source": [
        "def identity_block(input_tensor, kernel_size, filters, stage, block):\n",
        "    filters1, filters2, filters3 = filters\n",
        "    bn_axis = 3\n",
        "\n",
        "    conv_name_base = 'res' + str(stage) + block + '_branch'\n",
        "    bn_name_base = 'bn' + str(stage) + block + '_branch'\n",
        "\n",
        "    x = Conv2D(filters1, (1, 1), name = conv_name_base + '2a')(input_tensor)\n",
        "    x = BatchNormalization(axis = bn_axis, name = bn_name_base + '2a')(x)\n",
        "    x = Activation('relu')(x)\n",
        "\n",
        "    x = Conv2D(filters2, kernel_size, padding = 'same', name = conv_name_base + '2b')(x)\n",
        "    x = BatchNormalization(axis = bn_axis, name = bn_name_base + '2b')(x)\n",
        "    x = Activation('relu')(x)\n",
        "\n",
        "    x = Conv2D(filters3, (1, 1), name = conv_name_base + '2c')(x)\n",
        "    x = BatchNormalization(axis = bn_axis, name = bn_name_base + '2c')(x)\n",
        "\n",
        "    x = Add()([x, input_tensor])\n",
        "    x = Activation('relu',name='activation_'+str(stage)+block)(x)\n",
        "\n",
        "    return x\n",
        "\n",
        "def conv_block(input_tensor, kernel_size, filters, stage, block, strides = (2, 2)):\n",
        "    filters1, filters2, filters3 = filters\n",
        "    bn_axis = 3\n",
        "\n",
        "    conv_name_base = 'res' + str(stage) + block + '_branch'\n",
        "    bn_name_base = 'bn' + str(stage) + block + '_branch'\n",
        "\n",
        "    x = Conv2D(filters1, (1, 1), strides = strides, name = conv_name_base + '2a')(input_tensor)\n",
        "    x = BatchNormalization(axis = bn_axis, name = bn_name_base + '2a')(x)\n",
        "    x = Activation('relu')(x)\n",
        "\n",
        "    x = Conv2D(filters2, kernel_size, padding = 'same', name = conv_name_base + '2b')(x)\n",
        "\n",
        "    x = BatchNormalization(axis = bn_axis, name = bn_name_base + '2b')(x)\n",
        "    x = Activation('relu')(x)\n",
        "\n",
        "    x = Conv2D(filters3, (1, 1), name = conv_name_base + '2c')(x)\n",
        "    x = BatchNormalization(axis = bn_axis, name = bn_name_base + '2c')(x)\n",
        "\n",
        "    shortcut = Conv2D(filters3, (1, 1), strides = strides,\n",
        "                      name = conv_name_base + '1')(input_tensor)\n",
        "    shortcut = BatchNormalization(axis = bn_axis, name = bn_name_base + '1')(shortcut)\n",
        "\n",
        "    x = Add()([x, shortcut])\n",
        "    x = Activation('relu')(x)\n",
        "\n",
        "    return x"
      ],
      "execution_count": null,
      "outputs": []
    },
    {
      "cell_type": "code",
      "metadata": {
        "id": "O3B2zstPpWUZ"
      },
      "source": [
        "\n",
        " \"\"\"\n",
        "    Instantiates the ResNet50 architecture with pre-trained weights from ImageNet.\n",
        "\n",
        "    Parameters:\n",
        "        input_tensor: Optional Keras tensor (i.e. output of `layers.Input()`) to use as input for the model.\n",
        "        input_shape: Optional shape tuple, only to be specified if `include_top` is False.\n",
        "        pooling: Optional pooling mode for feature extraction when `include_top` is False.\n",
        "        classes: Optional number of classes to classify images into, only to be specified if `include_top` is True.\n",
        "\n",
        "    Returns:\n",
        "        A Keras model instance.\n",
        "    \"\"\"\n",
        "\n",
        "\n",
        "def ResNet50(input_tensor = None, input_shape = None, pooling = None, classes = 1000):\n",
        "    img_input = Input(shape = input_shape)\n",
        "    bn_axis = 3\n",
        "\n",
        "    x = Conv2D(64, (7, 7), strides = (2, 2), padding = 'same', name = 'conv1',kernel_initializer=\"he_normal\" )(img_input)\n",
        "    x = BatchNormalization(axis = bn_axis, name = 'bn_conv1')(x)\n",
        "    x = Activation('relu',name=\"activation_1\")(x)\n",
        "\n",
        "    x = MaxPooling2D((3, 3), strides = (2, 2), padding = \"same\")(x)\n",
        "\n",
        "    x = conv_block(x, 3, [64, 64, 256], stage = 2, block = 'a', strides = (1, 1))\n",
        "    x = identity_block(x, 3, [64, 64, 256], stage = 2, block = 'b')\n",
        "\n",
        "    x = identity_block(x, 3, [64, 64, 256], stage = 2, block = 'c')\n",
        "\n",
        "    x = conv_block(x, 3, [128, 128, 512], stage = 3, block = 'a')\n",
        "    x = identity_block(x, 3, [128, 128, 512], stage = 3, block = 'b')\n",
        "    x = identity_block(x, 3, [128, 128, 512], stage = 3, block = 'c')\n",
        "    x = identity_block(x, 3, [128, 128, 512], stage = 3, block = 'd')\n",
        "\n",
        "    x = conv_block(x, 3, [256, 256, 1024], stage = 4, block = 'a')\n",
        "    x = identity_block(x, 3, [256, 256, 1024], stage = 4, block = 'b')\n",
        "    x = identity_block(x, 3, [256, 256, 1024], stage = 4, block = 'c')\n",
        "    x = identity_block(x, 3, [256, 256, 1024], stage = 4, block = 'd')\n",
        "    x = identity_block(x, 3, [256, 256, 1024], stage = 4, block = 'e')\n",
        "    x = identity_block(x, 3, [256, 256, 1024], stage = 4, block = 'f')\n",
        "\n",
        "\n",
        "    x = conv_block(x, 3, [512, 512, 2048], stage = 5, block = 'a')\n",
        "    x = identity_block(x, 3, [512, 512, 2048], stage = 5, block = 'b')\n",
        "    x = identity_block(x, 3, [512, 512, 2048], stage = 5, block = 'c')\n",
        "\n",
        "    model = Model(img_input, x, name = 'resnet50')\n",
        "    resnet50_weights_path = dataset_path+'resnet50_weights_tf_dim_ordering_tf_kernels_notop.h5'\n",
        "    model.load_weights(resnet50_weights_path)\n",
        "\n",
        "\n",
        "    return model\n"
      ],
      "execution_count": null,
      "outputs": []
    },
    {
      "cell_type": "code",
      "metadata": {
        "id": "1ACOKna_pWR2"
      },
      "source": [
        "def conv_block_bn(prevlayer, filters, prefix, strides = (1, 1)):\n",
        "    conv = Conv2D(filters, (3, 3), padding = \"same\", kernel_initializer = \"he_normal\", strides = strides, name = prefix + \"_conv\")(prevlayer)\n",
        "    conv = BatchNormalization(name = prefix + \"_bn\")(conv)\n",
        "    conv = Activation('relu', name = prefix + \"_activation\")(conv)\n",
        "\n",
        "    return conv"
      ],
      "execution_count": null,
      "outputs": []
    },
    {
      "cell_type": "code",
      "metadata": {
        "id": "eZYMvb5epWLd"
      },
      "source": [
        "def unet_resnet(nClasses, input_shape):\n",
        "    resnet_base = ResNet50(input_shape = input_shape)\n",
        "\n",
        "    for l in resnet_base.layers:\n",
        "        l.trainable = True\n",
        "\n",
        "    conv1 = resnet_base.get_layer(\"activation_1\").output\n",
        "    conv2 = resnet_base.get_layer(\"activation_2c\").output\n",
        "    conv3 = resnet_base.get_layer(\"activation_3d\").output\n",
        "    conv4 = resnet_base.get_layer(\"activation_4f\").output\n",
        "    conv5 = resnet_base.get_layer(\"activation_5c\").output\n",
        "\n",
        "    up6 = concatenate([UpSampling2D()(conv5), conv4], axis = -1)\n",
        "    conv6 = conv_block_bn(up6, 256, \"conv6_1\")\n",
        "    conv6 = conv_block_bn(conv6, 256, \"conv6_2\")\n",
        "\n",
        "    up7 = concatenate([UpSampling2D()(conv6), conv3], axis = -1)\n",
        "    conv7 = conv_block_bn(up7, 64, \"conv7_1\")\n",
        "    conv7 = conv_block_bn(conv7, 64, \"conv7_2\")\n",
        "    up8 = concatenate([UpSampling2D()(conv7), conv2], axis = -1)\n",
        "    conv8 = conv_block_bn(up8, 16, \"conv8_1\")\n",
        "    conv8 = conv_block_bn(conv8, 16, \"conv8_2\")\n",
        "\n",
        "    up9 = concatenate([UpSampling2D()(conv8), conv1], axis = -1)\n",
        "    conv9 = conv_block_bn(up9, 8, \"conv9_1\")\n",
        "    conv9 = conv_block_bn(conv9, 8, \"conv9_2\")\n",
        "\n",
        "\n",
        "    up10 = UpSampling2D()(conv9)\n",
        "    conv10 = conv_block_bn(up10, nClasses, \"conv10_1\")\n",
        "    conv10 = conv_block_bn(conv10, nClasses, \"conv10_2\")\n",
        "    conv10 = SpatialDropout2D(0.2)(conv10)\n",
        "\n",
        "    x = Conv2D(nClasses, kernel_size = (1, 1), strides = (1, 1), activation = \"softmax\", name = \"prediction\")(conv10)\n",
        "    model = Model(resnet_base.input, x)\n",
        "\n",
        "    return model\n",
        "\n",
        "\n",
        " '''\n",
        " def unet_resnet(nClasses, input_shape):\n",
        "    resnet_base = ResNet50(input_shape = input_shape)\n",
        "\n",
        "    for l in resnet_base.layers:\n",
        "        l.trainable = True\n",
        "\n",
        "    # Corrected layer names\n",
        "    conv1 = resnet_base.get_layer(\"activation_1\").output\n",
        "    conv2 = resnet_base.get_layer(\"activation_10\").output\n",
        "    conv3 = resnet_base.get_layer(\"activation_22\").output\n",
        "    conv4 = resnet_base.get_layer(\"activation_40\").output\n",
        "    conv5 = resnet_base.get_layer(\"activation_49\").output\n",
        "\n",
        "    up6 = concatenate([UpSampling2D()(conv5), conv4], axis = -1)\n",
        "    conv6 = conv_block_bn(up6, 256, \"conv6_1\")\n",
        "    conv6 = conv_block_bn(conv6, 256, \"conv6_2\")\n",
        "\n",
        "    up7 = concatenate([UpSampling2D()(conv6), conv3], axis = -1)\n",
        "    conv7 = conv_block_bn(up7, 64, \"conv7_1\")\n",
        "    conv7 = conv_block_bn(conv7, 64, \"conv7_2\")\n",
        "    up8 = concatenate([UpSampling2D()(conv7), conv2], axis = -1)\n",
        "    conv8 = conv_block_bn(up8, 16, \"conv8_1\")\n",
        "    conv8 = conv_block_bn(conv8, 16, \"conv8_2\")\n",
        "\n",
        "    up9 = concatenate([UpSampling2D()(conv8), conv1], axis = -1)\n",
        "    conv9 = conv_block_bn(up9, 8, \"conv9_1\")\n",
        "    conv9 = conv_block_bn(conv9, 8, \"conv9_2\")\n",
        "\n",
        "    up10 = UpSampling2D()(conv9)\n",
        "    conv10 = conv_block_bn(up10, nClasses, \"conv10_1\")\n",
        "    conv10 = conv_block_bn(conv10, nClasses, \"conv10_2\")\n",
        "    conv10 = SpatialDropout2D(0.2)(conv10)\n",
        "\n",
        "    x = Conv2D(nClasses, kernel_size = (1, 1), strides = (1, 1), activation = \"softmax\", name = \"prediction\")(conv10)\n",
        "    model = Model(resnet_base.input, x)\n",
        "\n",
        "    return model\n",
        "'''\n"
      ],
      "execution_count": null,
      "outputs": []
    },
    {
      "cell_type": "code",
      "metadata": {
        "id": "V2a_U10Kwql-",
        "outputId": "99ae656d-fcff-41bd-fc3d-b71d2214df58",
        "colab": {
          "base_uri": "https://localhost:8080/",
          "height": 1000
        }
      },
      "source": [
        "model = unet_resnet(nClasses = n_classes, input_shape = (input_height, input_width, 3))\n",
        "model.summary()"
      ],
      "execution_count": null,
      "outputs": [
        {
          "output_type": "stream",
          "text": [
            "Model: \"model\"\n",
            "__________________________________________________________________________________________________\n",
            "Layer (type)                    Output Shape         Param #     Connected to                     \n",
            "==================================================================================================\n",
            "input_2 (InputLayer)            [(None, 128, 256, 3) 0                                            \n",
            "__________________________________________________________________________________________________\n",
            "conv1 (Conv2D)                  (None, 64, 128, 64)  9472        input_2[0][0]                    \n",
            "__________________________________________________________________________________________________\n",
            "bn_conv1 (BatchNormalization)   (None, 64, 128, 64)  256         conv1[0][0]                      \n",
            "__________________________________________________________________________________________________\n",
            "activation_1 (Activation)       (None, 64, 128, 64)  0           bn_conv1[0][0]                   \n",
            "__________________________________________________________________________________________________\n",
            "max_pooling2d_1 (MaxPooling2D)  (None, 32, 64, 64)   0           activation_1[0][0]               \n",
            "__________________________________________________________________________________________________\n",
            "res2a_branch2a (Conv2D)         (None, 32, 64, 64)   4160        max_pooling2d_1[0][0]            \n",
            "__________________________________________________________________________________________________\n",
            "bn2a_branch2a (BatchNormalizati (None, 32, 64, 64)   256         res2a_branch2a[0][0]             \n",
            "__________________________________________________________________________________________________\n",
            "activation_36 (Activation)      (None, 32, 64, 64)   0           bn2a_branch2a[0][0]              \n",
            "__________________________________________________________________________________________________\n",
            "res2a_branch2b (Conv2D)         (None, 32, 64, 64)   36928       activation_36[0][0]              \n",
            "__________________________________________________________________________________________________\n",
            "bn2a_branch2b (BatchNormalizati (None, 32, 64, 64)   256         res2a_branch2b[0][0]             \n",
            "__________________________________________________________________________________________________\n",
            "activation_37 (Activation)      (None, 32, 64, 64)   0           bn2a_branch2b[0][0]              \n",
            "__________________________________________________________________________________________________\n",
            "res2a_branch2c (Conv2D)         (None, 32, 64, 256)  16640       activation_37[0][0]              \n",
            "__________________________________________________________________________________________________\n",
            "res2a_branch1 (Conv2D)          (None, 32, 64, 256)  16640       max_pooling2d_1[0][0]            \n",
            "__________________________________________________________________________________________________\n",
            "bn2a_branch2c (BatchNormalizati (None, 32, 64, 256)  1024        res2a_branch2c[0][0]             \n",
            "__________________________________________________________________________________________________\n",
            "bn2a_branch1 (BatchNormalizatio (None, 32, 64, 256)  1024        res2a_branch1[0][0]              \n",
            "__________________________________________________________________________________________________\n",
            "add_16 (Add)                    (None, 32, 64, 256)  0           bn2a_branch2c[0][0]              \n",
            "                                                                 bn2a_branch1[0][0]               \n",
            "__________________________________________________________________________________________________\n",
            "activation_38 (Activation)      (None, 32, 64, 256)  0           add_16[0][0]                     \n",
            "__________________________________________________________________________________________________\n",
            "res2b_branch2a (Conv2D)         (None, 32, 64, 64)   16448       activation_38[0][0]              \n",
            "__________________________________________________________________________________________________\n",
            "bn2b_branch2a (BatchNormalizati (None, 32, 64, 64)   256         res2b_branch2a[0][0]             \n",
            "__________________________________________________________________________________________________\n",
            "activation_39 (Activation)      (None, 32, 64, 64)   0           bn2b_branch2a[0][0]              \n",
            "__________________________________________________________________________________________________\n",
            "res2b_branch2b (Conv2D)         (None, 32, 64, 64)   36928       activation_39[0][0]              \n",
            "__________________________________________________________________________________________________\n",
            "bn2b_branch2b (BatchNormalizati (None, 32, 64, 64)   256         res2b_branch2b[0][0]             \n",
            "__________________________________________________________________________________________________\n",
            "activation_40 (Activation)      (None, 32, 64, 64)   0           bn2b_branch2b[0][0]              \n",
            "__________________________________________________________________________________________________\n",
            "res2b_branch2c (Conv2D)         (None, 32, 64, 256)  16640       activation_40[0][0]              \n",
            "__________________________________________________________________________________________________\n",
            "bn2b_branch2c (BatchNormalizati (None, 32, 64, 256)  1024        res2b_branch2c[0][0]             \n",
            "__________________________________________________________________________________________________\n",
            "add_17 (Add)                    (None, 32, 64, 256)  0           bn2b_branch2c[0][0]              \n",
            "                                                                 activation_38[0][0]              \n",
            "__________________________________________________________________________________________________\n",
            "activation_2b (Activation)      (None, 32, 64, 256)  0           add_17[0][0]                     \n",
            "__________________________________________________________________________________________________\n",
            "res2c_branch2a (Conv2D)         (None, 32, 64, 64)   16448       activation_2b[0][0]              \n",
            "__________________________________________________________________________________________________\n",
            "bn2c_branch2a (BatchNormalizati (None, 32, 64, 64)   256         res2c_branch2a[0][0]             \n",
            "__________________________________________________________________________________________________\n",
            "activation_41 (Activation)      (None, 32, 64, 64)   0           bn2c_branch2a[0][0]              \n",
            "__________________________________________________________________________________________________\n",
            "res2c_branch2b (Conv2D)         (None, 32, 64, 64)   36928       activation_41[0][0]              \n",
            "__________________________________________________________________________________________________\n",
            "bn2c_branch2b (BatchNormalizati (None, 32, 64, 64)   256         res2c_branch2b[0][0]             \n",
            "__________________________________________________________________________________________________\n",
            "activation_42 (Activation)      (None, 32, 64, 64)   0           bn2c_branch2b[0][0]              \n",
            "__________________________________________________________________________________________________\n",
            "res2c_branch2c (Conv2D)         (None, 32, 64, 256)  16640       activation_42[0][0]              \n",
            "__________________________________________________________________________________________________\n",
            "bn2c_branch2c (BatchNormalizati (None, 32, 64, 256)  1024        res2c_branch2c[0][0]             \n",
            "__________________________________________________________________________________________________\n",
            "add_18 (Add)                    (None, 32, 64, 256)  0           bn2c_branch2c[0][0]              \n",
            "                                                                 activation_2b[0][0]              \n",
            "__________________________________________________________________________________________________\n",
            "activation_2c (Activation)      (None, 32, 64, 256)  0           add_18[0][0]                     \n",
            "__________________________________________________________________________________________________\n",
            "res3a_branch2a (Conv2D)         (None, 16, 32, 128)  32896       activation_2c[0][0]              \n",
            "__________________________________________________________________________________________________\n",
            "bn3a_branch2a (BatchNormalizati (None, 16, 32, 128)  512         res3a_branch2a[0][0]             \n",
            "__________________________________________________________________________________________________\n",
            "activation_43 (Activation)      (None, 16, 32, 128)  0           bn3a_branch2a[0][0]              \n",
            "__________________________________________________________________________________________________\n",
            "res3a_branch2b (Conv2D)         (None, 16, 32, 128)  147584      activation_43[0][0]              \n",
            "__________________________________________________________________________________________________\n",
            "bn3a_branch2b (BatchNormalizati (None, 16, 32, 128)  512         res3a_branch2b[0][0]             \n",
            "__________________________________________________________________________________________________\n",
            "activation_44 (Activation)      (None, 16, 32, 128)  0           bn3a_branch2b[0][0]              \n",
            "__________________________________________________________________________________________________\n",
            "res3a_branch2c (Conv2D)         (None, 16, 32, 512)  66048       activation_44[0][0]              \n",
            "__________________________________________________________________________________________________\n",
            "res3a_branch1 (Conv2D)          (None, 16, 32, 512)  131584      activation_2c[0][0]              \n",
            "__________________________________________________________________________________________________\n",
            "bn3a_branch2c (BatchNormalizati (None, 16, 32, 512)  2048        res3a_branch2c[0][0]             \n",
            "__________________________________________________________________________________________________\n",
            "bn3a_branch1 (BatchNormalizatio (None, 16, 32, 512)  2048        res3a_branch1[0][0]              \n",
            "__________________________________________________________________________________________________\n",
            "add_19 (Add)                    (None, 16, 32, 512)  0           bn3a_branch2c[0][0]              \n",
            "                                                                 bn3a_branch1[0][0]               \n",
            "__________________________________________________________________________________________________\n",
            "activation_45 (Activation)      (None, 16, 32, 512)  0           add_19[0][0]                     \n",
            "__________________________________________________________________________________________________\n",
            "res3b_branch2a (Conv2D)         (None, 16, 32, 128)  65664       activation_45[0][0]              \n",
            "__________________________________________________________________________________________________\n",
            "bn3b_branch2a (BatchNormalizati (None, 16, 32, 128)  512         res3b_branch2a[0][0]             \n",
            "__________________________________________________________________________________________________\n",
            "activation_46 (Activation)      (None, 16, 32, 128)  0           bn3b_branch2a[0][0]              \n",
            "__________________________________________________________________________________________________\n",
            "res3b_branch2b (Conv2D)         (None, 16, 32, 128)  147584      activation_46[0][0]              \n",
            "__________________________________________________________________________________________________\n",
            "bn3b_branch2b (BatchNormalizati (None, 16, 32, 128)  512         res3b_branch2b[0][0]             \n",
            "__________________________________________________________________________________________________\n",
            "activation_47 (Activation)      (None, 16, 32, 128)  0           bn3b_branch2b[0][0]              \n",
            "__________________________________________________________________________________________________\n",
            "res3b_branch2c (Conv2D)         (None, 16, 32, 512)  66048       activation_47[0][0]              \n",
            "__________________________________________________________________________________________________\n",
            "bn3b_branch2c (BatchNormalizati (None, 16, 32, 512)  2048        res3b_branch2c[0][0]             \n",
            "__________________________________________________________________________________________________\n",
            "add_20 (Add)                    (None, 16, 32, 512)  0           bn3b_branch2c[0][0]              \n",
            "                                                                 activation_45[0][0]              \n",
            "__________________________________________________________________________________________________\n",
            "activation_3b (Activation)      (None, 16, 32, 512)  0           add_20[0][0]                     \n",
            "__________________________________________________________________________________________________\n",
            "res3c_branch2a (Conv2D)         (None, 16, 32, 128)  65664       activation_3b[0][0]              \n",
            "__________________________________________________________________________________________________\n",
            "bn3c_branch2a (BatchNormalizati (None, 16, 32, 128)  512         res3c_branch2a[0][0]             \n",
            "__________________________________________________________________________________________________\n",
            "activation_48 (Activation)      (None, 16, 32, 128)  0           bn3c_branch2a[0][0]              \n",
            "__________________________________________________________________________________________________\n",
            "res3c_branch2b (Conv2D)         (None, 16, 32, 128)  147584      activation_48[0][0]              \n",
            "__________________________________________________________________________________________________\n",
            "bn3c_branch2b (BatchNormalizati (None, 16, 32, 128)  512         res3c_branch2b[0][0]             \n",
            "__________________________________________________________________________________________________\n",
            "activation_49 (Activation)      (None, 16, 32, 128)  0           bn3c_branch2b[0][0]              \n",
            "__________________________________________________________________________________________________\n",
            "res3c_branch2c (Conv2D)         (None, 16, 32, 512)  66048       activation_49[0][0]              \n",
            "__________________________________________________________________________________________________\n",
            "bn3c_branch2c (BatchNormalizati (None, 16, 32, 512)  2048        res3c_branch2c[0][0]             \n",
            "__________________________________________________________________________________________________\n",
            "add_21 (Add)                    (None, 16, 32, 512)  0           bn3c_branch2c[0][0]              \n",
            "                                                                 activation_3b[0][0]              \n",
            "__________________________________________________________________________________________________\n",
            "activation_3c (Activation)      (None, 16, 32, 512)  0           add_21[0][0]                     \n",
            "__________________________________________________________________________________________________\n",
            "res3d_branch2a (Conv2D)         (None, 16, 32, 128)  65664       activation_3c[0][0]              \n",
            "__________________________________________________________________________________________________\n",
            "bn3d_branch2a (BatchNormalizati (None, 16, 32, 128)  512         res3d_branch2a[0][0]             \n",
            "__________________________________________________________________________________________________\n",
            "activation_50 (Activation)      (None, 16, 32, 128)  0           bn3d_branch2a[0][0]              \n",
            "__________________________________________________________________________________________________\n",
            "res3d_branch2b (Conv2D)         (None, 16, 32, 128)  147584      activation_50[0][0]              \n",
            "__________________________________________________________________________________________________\n",
            "bn3d_branch2b (BatchNormalizati (None, 16, 32, 128)  512         res3d_branch2b[0][0]             \n",
            "__________________________________________________________________________________________________\n",
            "activation_51 (Activation)      (None, 16, 32, 128)  0           bn3d_branch2b[0][0]              \n",
            "__________________________________________________________________________________________________\n",
            "res3d_branch2c (Conv2D)         (None, 16, 32, 512)  66048       activation_51[0][0]              \n",
            "__________________________________________________________________________________________________\n",
            "bn3d_branch2c (BatchNormalizati (None, 16, 32, 512)  2048        res3d_branch2c[0][0]             \n",
            "__________________________________________________________________________________________________\n",
            "add_22 (Add)                    (None, 16, 32, 512)  0           bn3d_branch2c[0][0]              \n",
            "                                                                 activation_3c[0][0]              \n",
            "__________________________________________________________________________________________________\n",
            "activation_3d (Activation)      (None, 16, 32, 512)  0           add_22[0][0]                     \n",
            "__________________________________________________________________________________________________\n",
            "res4a_branch2a (Conv2D)         (None, 8, 16, 256)   131328      activation_3d[0][0]              \n",
            "__________________________________________________________________________________________________\n",
            "bn4a_branch2a (BatchNormalizati (None, 8, 16, 256)   1024        res4a_branch2a[0][0]             \n",
            "__________________________________________________________________________________________________\n",
            "activation_52 (Activation)      (None, 8, 16, 256)   0           bn4a_branch2a[0][0]              \n",
            "__________________________________________________________________________________________________\n",
            "res4a_branch2b (Conv2D)         (None, 8, 16, 256)   590080      activation_52[0][0]              \n",
            "__________________________________________________________________________________________________\n",
            "bn4a_branch2b (BatchNormalizati (None, 8, 16, 256)   1024        res4a_branch2b[0][0]             \n",
            "__________________________________________________________________________________________________\n",
            "activation_53 (Activation)      (None, 8, 16, 256)   0           bn4a_branch2b[0][0]              \n",
            "__________________________________________________________________________________________________\n",
            "res4a_branch2c (Conv2D)         (None, 8, 16, 1024)  263168      activation_53[0][0]              \n",
            "__________________________________________________________________________________________________\n",
            "res4a_branch1 (Conv2D)          (None, 8, 16, 1024)  525312      activation_3d[0][0]              \n",
            "__________________________________________________________________________________________________\n",
            "bn4a_branch2c (BatchNormalizati (None, 8, 16, 1024)  4096        res4a_branch2c[0][0]             \n",
            "__________________________________________________________________________________________________\n",
            "bn4a_branch1 (BatchNormalizatio (None, 8, 16, 1024)  4096        res4a_branch1[0][0]              \n",
            "__________________________________________________________________________________________________\n",
            "add_23 (Add)                    (None, 8, 16, 1024)  0           bn4a_branch2c[0][0]              \n",
            "                                                                 bn4a_branch1[0][0]               \n",
            "__________________________________________________________________________________________________\n",
            "activation_54 (Activation)      (None, 8, 16, 1024)  0           add_23[0][0]                     \n",
            "__________________________________________________________________________________________________\n",
            "res4b_branch2a (Conv2D)         (None, 8, 16, 256)   262400      activation_54[0][0]              \n",
            "__________________________________________________________________________________________________\n",
            "bn4b_branch2a (BatchNormalizati (None, 8, 16, 256)   1024        res4b_branch2a[0][0]             \n",
            "__________________________________________________________________________________________________\n",
            "activation_55 (Activation)      (None, 8, 16, 256)   0           bn4b_branch2a[0][0]              \n",
            "__________________________________________________________________________________________________\n",
            "res4b_branch2b (Conv2D)         (None, 8, 16, 256)   590080      activation_55[0][0]              \n",
            "__________________________________________________________________________________________________\n",
            "bn4b_branch2b (BatchNormalizati (None, 8, 16, 256)   1024        res4b_branch2b[0][0]             \n",
            "__________________________________________________________________________________________________\n",
            "activation_56 (Activation)      (None, 8, 16, 256)   0           bn4b_branch2b[0][0]              \n",
            "__________________________________________________________________________________________________\n",
            "res4b_branch2c (Conv2D)         (None, 8, 16, 1024)  263168      activation_56[0][0]              \n",
            "__________________________________________________________________________________________________\n",
            "bn4b_branch2c (BatchNormalizati (None, 8, 16, 1024)  4096        res4b_branch2c[0][0]             \n",
            "__________________________________________________________________________________________________\n",
            "add_24 (Add)                    (None, 8, 16, 1024)  0           bn4b_branch2c[0][0]              \n",
            "                                                                 activation_54[0][0]              \n",
            "__________________________________________________________________________________________________\n",
            "activation_4b (Activation)      (None, 8, 16, 1024)  0           add_24[0][0]                     \n",
            "__________________________________________________________________________________________________\n",
            "res4c_branch2a (Conv2D)         (None, 8, 16, 256)   262400      activation_4b[0][0]              \n",
            "__________________________________________________________________________________________________\n",
            "bn4c_branch2a (BatchNormalizati (None, 8, 16, 256)   1024        res4c_branch2a[0][0]             \n",
            "__________________________________________________________________________________________________\n",
            "activation_57 (Activation)      (None, 8, 16, 256)   0           bn4c_branch2a[0][0]              \n",
            "__________________________________________________________________________________________________\n",
            "res4c_branch2b (Conv2D)         (None, 8, 16, 256)   590080      activation_57[0][0]              \n",
            "__________________________________________________________________________________________________\n",
            "bn4c_branch2b (BatchNormalizati (None, 8, 16, 256)   1024        res4c_branch2b[0][0]             \n",
            "__________________________________________________________________________________________________\n",
            "activation_58 (Activation)      (None, 8, 16, 256)   0           bn4c_branch2b[0][0]              \n",
            "__________________________________________________________________________________________________\n",
            "res4c_branch2c (Conv2D)         (None, 8, 16, 1024)  263168      activation_58[0][0]              \n",
            "__________________________________________________________________________________________________\n",
            "bn4c_branch2c (BatchNormalizati (None, 8, 16, 1024)  4096        res4c_branch2c[0][0]             \n",
            "__________________________________________________________________________________________________\n",
            "add_25 (Add)                    (None, 8, 16, 1024)  0           bn4c_branch2c[0][0]              \n",
            "                                                                 activation_4b[0][0]              \n",
            "__________________________________________________________________________________________________\n",
            "activation_4c (Activation)      (None, 8, 16, 1024)  0           add_25[0][0]                     \n",
            "__________________________________________________________________________________________________\n",
            "res4d_branch2a (Conv2D)         (None, 8, 16, 256)   262400      activation_4c[0][0]              \n",
            "__________________________________________________________________________________________________\n",
            "bn4d_branch2a (BatchNormalizati (None, 8, 16, 256)   1024        res4d_branch2a[0][0]             \n",
            "__________________________________________________________________________________________________\n",
            "activation_59 (Activation)      (None, 8, 16, 256)   0           bn4d_branch2a[0][0]              \n",
            "__________________________________________________________________________________________________\n",
            "res4d_branch2b (Conv2D)         (None, 8, 16, 256)   590080      activation_59[0][0]              \n",
            "__________________________________________________________________________________________________\n",
            "bn4d_branch2b (BatchNormalizati (None, 8, 16, 256)   1024        res4d_branch2b[0][0]             \n",
            "__________________________________________________________________________________________________\n",
            "activation_60 (Activation)      (None, 8, 16, 256)   0           bn4d_branch2b[0][0]              \n",
            "__________________________________________________________________________________________________\n",
            "res4d_branch2c (Conv2D)         (None, 8, 16, 1024)  263168      activation_60[0][0]              \n",
            "__________________________________________________________________________________________________\n",
            "bn4d_branch2c (BatchNormalizati (None, 8, 16, 1024)  4096        res4d_branch2c[0][0]             \n",
            "__________________________________________________________________________________________________\n",
            "add_26 (Add)                    (None, 8, 16, 1024)  0           bn4d_branch2c[0][0]              \n",
            "                                                                 activation_4c[0][0]              \n",
            "__________________________________________________________________________________________________\n",
            "activation_4d (Activation)      (None, 8, 16, 1024)  0           add_26[0][0]                     \n",
            "__________________________________________________________________________________________________\n",
            "res4e_branch2a (Conv2D)         (None, 8, 16, 256)   262400      activation_4d[0][0]              \n",
            "__________________________________________________________________________________________________\n",
            "bn4e_branch2a (BatchNormalizati (None, 8, 16, 256)   1024        res4e_branch2a[0][0]             \n",
            "__________________________________________________________________________________________________\n",
            "activation_61 (Activation)      (None, 8, 16, 256)   0           bn4e_branch2a[0][0]              \n",
            "__________________________________________________________________________________________________\n",
            "res4e_branch2b (Conv2D)         (None, 8, 16, 256)   590080      activation_61[0][0]              \n",
            "__________________________________________________________________________________________________\n",
            "bn4e_branch2b (BatchNormalizati (None, 8, 16, 256)   1024        res4e_branch2b[0][0]             \n",
            "__________________________________________________________________________________________________\n",
            "activation_62 (Activation)      (None, 8, 16, 256)   0           bn4e_branch2b[0][0]              \n",
            "__________________________________________________________________________________________________\n",
            "res4e_branch2c (Conv2D)         (None, 8, 16, 1024)  263168      activation_62[0][0]              \n",
            "__________________________________________________________________________________________________\n",
            "bn4e_branch2c (BatchNormalizati (None, 8, 16, 1024)  4096        res4e_branch2c[0][0]             \n",
            "__________________________________________________________________________________________________\n",
            "add_27 (Add)                    (None, 8, 16, 1024)  0           bn4e_branch2c[0][0]              \n",
            "                                                                 activation_4d[0][0]              \n",
            "__________________________________________________________________________________________________\n",
            "activation_4e (Activation)      (None, 8, 16, 1024)  0           add_27[0][0]                     \n",
            "__________________________________________________________________________________________________\n",
            "res4f_branch2a (Conv2D)         (None, 8, 16, 256)   262400      activation_4e[0][0]              \n",
            "__________________________________________________________________________________________________\n",
            "bn4f_branch2a (BatchNormalizati (None, 8, 16, 256)   1024        res4f_branch2a[0][0]             \n",
            "__________________________________________________________________________________________________\n",
            "activation_63 (Activation)      (None, 8, 16, 256)   0           bn4f_branch2a[0][0]              \n",
            "__________________________________________________________________________________________________\n",
            "res4f_branch2b (Conv2D)         (None, 8, 16, 256)   590080      activation_63[0][0]              \n",
            "__________________________________________________________________________________________________\n",
            "bn4f_branch2b (BatchNormalizati (None, 8, 16, 256)   1024        res4f_branch2b[0][0]             \n",
            "__________________________________________________________________________________________________\n",
            "activation_64 (Activation)      (None, 8, 16, 256)   0           bn4f_branch2b[0][0]              \n",
            "__________________________________________________________________________________________________\n",
            "res4f_branch2c (Conv2D)         (None, 8, 16, 1024)  263168      activation_64[0][0]              \n",
            "__________________________________________________________________________________________________\n",
            "bn4f_branch2c (BatchNormalizati (None, 8, 16, 1024)  4096        res4f_branch2c[0][0]             \n",
            "__________________________________________________________________________________________________\n",
            "add_28 (Add)                    (None, 8, 16, 1024)  0           bn4f_branch2c[0][0]              \n",
            "                                                                 activation_4e[0][0]              \n",
            "__________________________________________________________________________________________________\n",
            "activation_4f (Activation)      (None, 8, 16, 1024)  0           add_28[0][0]                     \n",
            "__________________________________________________________________________________________________\n",
            "res5a_branch2a (Conv2D)         (None, 4, 8, 512)    524800      activation_4f[0][0]              \n",
            "__________________________________________________________________________________________________\n",
            "bn5a_branch2a (BatchNormalizati (None, 4, 8, 512)    2048        res5a_branch2a[0][0]             \n",
            "__________________________________________________________________________________________________\n",
            "activation_65 (Activation)      (None, 4, 8, 512)    0           bn5a_branch2a[0][0]              \n",
            "__________________________________________________________________________________________________\n",
            "res5a_branch2b (Conv2D)         (None, 4, 8, 512)    2359808     activation_65[0][0]              \n",
            "__________________________________________________________________________________________________\n",
            "bn5a_branch2b (BatchNormalizati (None, 4, 8, 512)    2048        res5a_branch2b[0][0]             \n",
            "__________________________________________________________________________________________________\n",
            "activation_66 (Activation)      (None, 4, 8, 512)    0           bn5a_branch2b[0][0]              \n",
            "__________________________________________________________________________________________________\n",
            "res5a_branch2c (Conv2D)         (None, 4, 8, 2048)   1050624     activation_66[0][0]              \n",
            "__________________________________________________________________________________________________\n",
            "res5a_branch1 (Conv2D)          (None, 4, 8, 2048)   2099200     activation_4f[0][0]              \n",
            "__________________________________________________________________________________________________\n",
            "bn5a_branch2c (BatchNormalizati (None, 4, 8, 2048)   8192        res5a_branch2c[0][0]             \n",
            "__________________________________________________________________________________________________\n",
            "bn5a_branch1 (BatchNormalizatio (None, 4, 8, 2048)   8192        res5a_branch1[0][0]              \n",
            "__________________________________________________________________________________________________\n",
            "add_29 (Add)                    (None, 4, 8, 2048)   0           bn5a_branch2c[0][0]              \n",
            "                                                                 bn5a_branch1[0][0]               \n",
            "__________________________________________________________________________________________________\n",
            "activation_67 (Activation)      (None, 4, 8, 2048)   0           add_29[0][0]                     \n",
            "__________________________________________________________________________________________________\n",
            "res5b_branch2a (Conv2D)         (None, 4, 8, 512)    1049088     activation_67[0][0]              \n",
            "__________________________________________________________________________________________________\n",
            "bn5b_branch2a (BatchNormalizati (None, 4, 8, 512)    2048        res5b_branch2a[0][0]             \n",
            "__________________________________________________________________________________________________\n",
            "activation_68 (Activation)      (None, 4, 8, 512)    0           bn5b_branch2a[0][0]              \n",
            "__________________________________________________________________________________________________\n",
            "res5b_branch2b (Conv2D)         (None, 4, 8, 512)    2359808     activation_68[0][0]              \n",
            "__________________________________________________________________________________________________\n",
            "bn5b_branch2b (BatchNormalizati (None, 4, 8, 512)    2048        res5b_branch2b[0][0]             \n",
            "__________________________________________________________________________________________________\n",
            "activation_69 (Activation)      (None, 4, 8, 512)    0           bn5b_branch2b[0][0]              \n",
            "__________________________________________________________________________________________________\n",
            "res5b_branch2c (Conv2D)         (None, 4, 8, 2048)   1050624     activation_69[0][0]              \n",
            "__________________________________________________________________________________________________\n",
            "bn5b_branch2c (BatchNormalizati (None, 4, 8, 2048)   8192        res5b_branch2c[0][0]             \n",
            "__________________________________________________________________________________________________\n",
            "add_30 (Add)                    (None, 4, 8, 2048)   0           bn5b_branch2c[0][0]              \n",
            "                                                                 activation_67[0][0]              \n",
            "__________________________________________________________________________________________________\n",
            "activation_5b (Activation)      (None, 4, 8, 2048)   0           add_30[0][0]                     \n",
            "__________________________________________________________________________________________________\n",
            "res5c_branch2a (Conv2D)         (None, 4, 8, 512)    1049088     activation_5b[0][0]              \n",
            "__________________________________________________________________________________________________\n",
            "bn5c_branch2a (BatchNormalizati (None, 4, 8, 512)    2048        res5c_branch2a[0][0]             \n",
            "__________________________________________________________________________________________________\n",
            "activation_70 (Activation)      (None, 4, 8, 512)    0           bn5c_branch2a[0][0]              \n",
            "__________________________________________________________________________________________________\n",
            "res5c_branch2b (Conv2D)         (None, 4, 8, 512)    2359808     activation_70[0][0]              \n",
            "__________________________________________________________________________________________________\n",
            "bn5c_branch2b (BatchNormalizati (None, 4, 8, 512)    2048        res5c_branch2b[0][0]             \n",
            "__________________________________________________________________________________________________\n",
            "activation_71 (Activation)      (None, 4, 8, 512)    0           bn5c_branch2b[0][0]              \n",
            "__________________________________________________________________________________________________\n",
            "res5c_branch2c (Conv2D)         (None, 4, 8, 2048)   1050624     activation_71[0][0]              \n",
            "__________________________________________________________________________________________________\n",
            "bn5c_branch2c (BatchNormalizati (None, 4, 8, 2048)   8192        res5c_branch2c[0][0]             \n",
            "__________________________________________________________________________________________________\n",
            "add_31 (Add)                    (None, 4, 8, 2048)   0           bn5c_branch2c[0][0]              \n",
            "                                                                 activation_5b[0][0]              \n",
            "__________________________________________________________________________________________________\n",
            "activation_5c (Activation)      (None, 4, 8, 2048)   0           add_31[0][0]                     \n",
            "__________________________________________________________________________________________________\n",
            "up_sampling2d (UpSampling2D)    (None, 8, 16, 2048)  0           activation_5c[0][0]              \n",
            "__________________________________________________________________________________________________\n",
            "concatenate (Concatenate)       (None, 8, 16, 3072)  0           up_sampling2d[0][0]              \n",
            "                                                                 activation_4f[0][0]              \n",
            "__________________________________________________________________________________________________\n",
            "conv6_1_conv (Conv2D)           (None, 8, 16, 256)   7078144     concatenate[0][0]                \n",
            "__________________________________________________________________________________________________\n",
            "conv6_1_bn (BatchNormalization) (None, 8, 16, 256)   1024        conv6_1_conv[0][0]               \n",
            "__________________________________________________________________________________________________\n",
            "conv6_1_activation (Activation) (None, 8, 16, 256)   0           conv6_1_bn[0][0]                 \n",
            "__________________________________________________________________________________________________\n",
            "conv6_2_conv (Conv2D)           (None, 8, 16, 256)   590080      conv6_1_activation[0][0]         \n",
            "__________________________________________________________________________________________________\n",
            "conv6_2_bn (BatchNormalization) (None, 8, 16, 256)   1024        conv6_2_conv[0][0]               \n",
            "__________________________________________________________________________________________________\n",
            "conv6_2_activation (Activation) (None, 8, 16, 256)   0           conv6_2_bn[0][0]                 \n",
            "__________________________________________________________________________________________________\n",
            "up_sampling2d_1 (UpSampling2D)  (None, 16, 32, 256)  0           conv6_2_activation[0][0]         \n",
            "__________________________________________________________________________________________________\n",
            "concatenate_1 (Concatenate)     (None, 16, 32, 768)  0           up_sampling2d_1[0][0]            \n",
            "                                                                 activation_3d[0][0]              \n",
            "__________________________________________________________________________________________________\n",
            "conv7_1_conv (Conv2D)           (None, 16, 32, 64)   442432      concatenate_1[0][0]              \n",
            "__________________________________________________________________________________________________\n",
            "conv7_1_bn (BatchNormalization) (None, 16, 32, 64)   256         conv7_1_conv[0][0]               \n",
            "__________________________________________________________________________________________________\n",
            "conv7_1_activation (Activation) (None, 16, 32, 64)   0           conv7_1_bn[0][0]                 \n",
            "__________________________________________________________________________________________________\n",
            "conv7_2_conv (Conv2D)           (None, 16, 32, 64)   36928       conv7_1_activation[0][0]         \n",
            "__________________________________________________________________________________________________\n",
            "conv7_2_bn (BatchNormalization) (None, 16, 32, 64)   256         conv7_2_conv[0][0]               \n",
            "__________________________________________________________________________________________________\n",
            "conv7_2_activation (Activation) (None, 16, 32, 64)   0           conv7_2_bn[0][0]                 \n",
            "__________________________________________________________________________________________________\n",
            "up_sampling2d_2 (UpSampling2D)  (None, 32, 64, 64)   0           conv7_2_activation[0][0]         \n",
            "__________________________________________________________________________________________________\n",
            "concatenate_2 (Concatenate)     (None, 32, 64, 320)  0           up_sampling2d_2[0][0]            \n",
            "                                                                 activation_2c[0][0]              \n",
            "__________________________________________________________________________________________________\n",
            "conv8_1_conv (Conv2D)           (None, 32, 64, 16)   46096       concatenate_2[0][0]              \n",
            "__________________________________________________________________________________________________\n",
            "conv8_1_bn (BatchNormalization) (None, 32, 64, 16)   64          conv8_1_conv[0][0]               \n",
            "__________________________________________________________________________________________________\n",
            "conv8_1_activation (Activation) (None, 32, 64, 16)   0           conv8_1_bn[0][0]                 \n",
            "__________________________________________________________________________________________________\n",
            "conv8_2_conv (Conv2D)           (None, 32, 64, 16)   2320        conv8_1_activation[0][0]         \n",
            "__________________________________________________________________________________________________\n",
            "conv8_2_bn (BatchNormalization) (None, 32, 64, 16)   64          conv8_2_conv[0][0]               \n",
            "__________________________________________________________________________________________________\n",
            "conv8_2_activation (Activation) (None, 32, 64, 16)   0           conv8_2_bn[0][0]                 \n",
            "__________________________________________________________________________________________________\n",
            "up_sampling2d_3 (UpSampling2D)  (None, 64, 128, 16)  0           conv8_2_activation[0][0]         \n",
            "__________________________________________________________________________________________________\n",
            "concatenate_3 (Concatenate)     (None, 64, 128, 80)  0           up_sampling2d_3[0][0]            \n",
            "                                                                 activation_1[0][0]               \n",
            "__________________________________________________________________________________________________\n",
            "conv9_1_conv (Conv2D)           (None, 64, 128, 8)   5768        concatenate_3[0][0]              \n",
            "__________________________________________________________________________________________________\n",
            "conv9_1_bn (BatchNormalization) (None, 64, 128, 8)   32          conv9_1_conv[0][0]               \n",
            "__________________________________________________________________________________________________\n",
            "conv9_1_activation (Activation) (None, 64, 128, 8)   0           conv9_1_bn[0][0]                 \n",
            "__________________________________________________________________________________________________\n",
            "conv9_2_conv (Conv2D)           (None, 64, 128, 8)   584         conv9_1_activation[0][0]         \n",
            "__________________________________________________________________________________________________\n",
            "conv9_2_bn (BatchNormalization) (None, 64, 128, 8)   32          conv9_2_conv[0][0]               \n",
            "__________________________________________________________________________________________________\n",
            "conv9_2_activation (Activation) (None, 64, 128, 8)   0           conv9_2_bn[0][0]                 \n",
            "__________________________________________________________________________________________________\n",
            "up_sampling2d_4 (UpSampling2D)  (None, 128, 256, 8)  0           conv9_2_activation[0][0]         \n",
            "__________________________________________________________________________________________________\n",
            "conv10_1_conv (Conv2D)          (None, 128, 256, 8)  584         up_sampling2d_4[0][0]            \n",
            "__________________________________________________________________________________________________\n",
            "conv10_1_bn (BatchNormalization (None, 128, 256, 8)  32          conv10_1_conv[0][0]              \n",
            "__________________________________________________________________________________________________\n",
            "conv10_1_activation (Activation (None, 128, 256, 8)  0           conv10_1_bn[0][0]                \n",
            "__________________________________________________________________________________________________\n",
            "conv10_2_conv (Conv2D)          (None, 128, 256, 8)  584         conv10_1_activation[0][0]        \n",
            "__________________________________________________________________________________________________\n",
            "conv10_2_bn (BatchNormalization (None, 128, 256, 8)  32          conv10_2_conv[0][0]              \n",
            "__________________________________________________________________________________________________\n",
            "conv10_2_activation (Activation (None, 128, 256, 8)  0           conv10_2_bn[0][0]                \n",
            "__________________________________________________________________________________________________\n",
            "spatial_dropout2d (SpatialDropo (None, 128, 256, 8)  0           conv10_2_activation[0][0]        \n",
            "__________________________________________________________________________________________________\n",
            "prediction (Conv2D)             (None, 128, 256, 8)  72          spatial_dropout2d[0][0]          \n",
            "==================================================================================================\n",
            "Total params: 31,794,120\n",
            "Trainable params: 31,739,592\n",
            "Non-trainable params: 54,528\n",
            "__________________________________________________________________________________________________\n"
          ],
          "name": "stdout"
        }
      ]
    },
    {
      "cell_type": "code",
      "metadata": {
        "id": "hPD7m2TfjyoC"
      },
      "source": [
        "filepath = dataset_path+\"unet_keras_img_generator_adam.h5\"\n",
        "\n",
        "checkpoint = ModelCheckpoint(filepath,\n",
        "                             monitor=\"val_loss\",\n",
        "                             mode=\"min\",\n",
        "                             save_best_only = True,\n",
        "                             verbose=1)\n",
        "\n",
        "earlystop = EarlyStopping(monitor = 'val_loss',\n",
        "                            mode=\"min\",\n",
        "                            min_delta = 0,\n",
        "                            patience = 5,\n",
        "                            verbose = 1,\n",
        "                            restore_best_weights = True)\n",
        "\n",
        "reduce_lr = ReduceLROnPlateau(monitor = 'val_loss', factor = 0.2, patience = 5, verbose = 1, min_delta = 0.0001)\n",
        "\n",
        "\n",
        "logdir = os.path.join(logs_base_dir, datetime.datetime.now().strftime(\"%Y%m%d-%H%M%S\"))\n",
        "tensorboard_callback = tf.keras.callbacks.TensorBoard(logdir, histogram_freq=1)\n",
        "#callbacks = [checkpoint, earlystop , reduce_lr]\n",
        "callbacks = [checkpoint, earlystop , reduce_lr,tensorboard_callback]\n"
      ],
      "execution_count": null,
      "outputs": []
    },
    {
      "cell_type": "code",
      "metadata": {
        "id": "3DFE641fzBJY"
      },
      "source": [
        "from tensorflow.keras import optimizers\n",
        "adam = optimizers.Adam(lr = 1e-2)\n",
        "model.compile(loss = 'categorical_crossentropy',\n",
        "              optimizer = adam,\n",
        "              metrics = ['accuracy'])"
      ],
      "execution_count": null,
      "outputs": []
    },
    {
      "cell_type": "code",
      "metadata": {
        "id": "61lkmcA1Z0p_",
        "outputId": "3b1e9d59-e41b-48d7-ee87-9419d8c6c4b3",
        "colab": {
          "base_uri": "https://localhost:8080/",
          "height": 1000
        }
      },
      "source": [
        "hist2 = model.fit_generator(train_gen, steps_per_epoch = (np.ceil(len(train_image_paths)/32)),\n",
        "                  validation_data=val_gen, validation_steps=(np.ceil(len(val_image_paths)/32)),\n",
        "                   callbacks=callbacks,\n",
        "                   epochs = 50, verbose = 1)"
      ],
      "execution_count": null,
      "outputs": [
        {
          "output_type": "stream",
          "text": [
            "Epoch 1/50\n",
            "WARNING:tensorflow:From /usr/local/lib/python3.6/dist-packages/tensorflow_core/python/ops/math_grad.py:1424: where (from tensorflow.python.ops.array_ops) is deprecated and will be removed in a future version.\n",
            "Instructions for updating:\n",
            "Use tf.where in 2.0, which has the same broadcast rule as np.where\n",
            "43/44 [============================>.] - ETA: 35s - loss: 1.5147 - acc: 0.4869 Epoch 1/50\n",
            " 7/44 [===>..........................] - ETA: 19:39 - loss: 11.2799 - acc: 0.3081\n",
            "Epoch 00001: val_loss improved from inf to 11.27992, saving model to /content/gdrive/My Drive/AppliedAI Dataset/IDD Casestudy/idd20k_lite/unet_keras_img_generator_adam.h5\n",
            "44/44 [==============================] - 1818s 41s/step - loss: 1.5112 - acc: 0.4878 - val_loss: 11.2799 - val_acc: 0.3081\n",
            "Epoch 2/50\n",
            "43/44 [============================>.] - ETA: 0s - loss: 1.0419 - acc: 0.6950Epoch 1/50\n",
            " 7/44 [===>..........................] - ETA: 14s - loss: 12.7994 - acc: 0.2072\n",
            "Epoch 00002: val_loss did not improve from 11.27992\n",
            "44/44 [==============================] - 36s 827ms/step - loss: 1.0439 - acc: 0.6935 - val_loss: 12.7994 - val_acc: 0.2072\n",
            "Epoch 3/50\n",
            "43/44 [============================>.] - ETA: 0s - loss: 0.9014 - acc: 0.7094Epoch 1/50\n",
            " 7/44 [===>..........................] - ETA: 14s - loss: 4.2557 - acc: 0.4684\n",
            "Epoch 00003: val_loss improved from 11.27992 to 4.25574, saving model to /content/gdrive/My Drive/AppliedAI Dataset/IDD Casestudy/idd20k_lite/unet_keras_img_generator_adam.h5\n",
            "44/44 [==============================] - 40s 920ms/step - loss: 0.9031 - acc: 0.7081 - val_loss: 4.2557 - val_acc: 0.4684\n",
            "Epoch 4/50\n",
            "43/44 [============================>.] - ETA: 0s - loss: 0.8515 - acc: 0.7084Epoch 1/50\n",
            " 7/44 [===>..........................] - ETA: 14s - loss: 3.9270 - acc: 0.5180\n",
            "Epoch 00004: val_loss improved from 4.25574 to 3.92703, saving model to /content/gdrive/My Drive/AppliedAI Dataset/IDD Casestudy/idd20k_lite/unet_keras_img_generator_adam.h5\n",
            "44/44 [==============================] - 41s 929ms/step - loss: 0.8537 - acc: 0.7073 - val_loss: 3.9270 - val_acc: 0.5180\n",
            "Epoch 5/50\n",
            "43/44 [============================>.] - ETA: 0s - loss: 0.8207 - acc: 0.7127Epoch 1/50\n",
            " 7/44 [===>..........................] - ETA: 14s - loss: 2.5865 - acc: 0.5003\n",
            "Epoch 00005: val_loss improved from 3.92703 to 2.58653, saving model to /content/gdrive/My Drive/AppliedAI Dataset/IDD Casestudy/idd20k_lite/unet_keras_img_generator_adam.h5\n",
            "44/44 [==============================] - 41s 931ms/step - loss: 0.8235 - acc: 0.7111 - val_loss: 2.5865 - val_acc: 0.5003\n",
            "Epoch 6/50\n",
            "43/44 [============================>.] - ETA: 0s - loss: 0.7775 - acc: 0.7218Epoch 1/50\n",
            " 7/44 [===>..........................] - ETA: 13s - loss: 3.2895 - acc: 0.5279\n",
            "Epoch 00006: val_loss did not improve from 2.58653\n",
            "44/44 [==============================] - 36s 829ms/step - loss: 0.7805 - acc: 0.7202 - val_loss: 3.2895 - val_acc: 0.5279\n",
            "Epoch 7/50\n",
            "43/44 [============================>.] - ETA: 0s - loss: 0.7601 - acc: 0.7276Epoch 1/50\n",
            " 7/44 [===>..........................] - ETA: 14s - loss: 1.4151 - acc: 0.5282\n",
            "Epoch 00007: val_loss improved from 2.58653 to 1.41514, saving model to /content/gdrive/My Drive/AppliedAI Dataset/IDD Casestudy/idd20k_lite/unet_keras_img_generator_adam.h5\n",
            "44/44 [==============================] - 42s 950ms/step - loss: 0.7633 - acc: 0.7263 - val_loss: 1.4151 - val_acc: 0.5282\n",
            "Epoch 8/50\n",
            "43/44 [============================>.] - ETA: 0s - loss: 0.7571 - acc: 0.7259Epoch 1/50\n",
            " 7/44 [===>..........................] - ETA: 14s - loss: 1.9097 - acc: 0.4921\n",
            "Epoch 00008: val_loss did not improve from 1.41514\n",
            "44/44 [==============================] - 37s 831ms/step - loss: 0.7602 - acc: 0.7246 - val_loss: 1.9097 - val_acc: 0.4921\n",
            "Epoch 9/50\n",
            "43/44 [============================>.] - ETA: 0s - loss: 0.7493 - acc: 0.7271Epoch 1/50\n",
            " 7/44 [===>..........................] - ETA: 13s - loss: 1.4605 - acc: 0.5459\n",
            "Epoch 00009: val_loss did not improve from 1.41514\n",
            "44/44 [==============================] - 36s 828ms/step - loss: 0.7531 - acc: 0.7258 - val_loss: 1.4605 - val_acc: 0.5459\n",
            "Epoch 10/50\n",
            "43/44 [============================>.] - ETA: 0s - loss: 0.7359 - acc: 0.7316Epoch 1/50\n",
            " 7/44 [===>..........................] - ETA: 13s - loss: 1.1759 - acc: 0.6425\n",
            "Epoch 00010: val_loss improved from 1.41514 to 1.17591, saving model to /content/gdrive/My Drive/AppliedAI Dataset/IDD Casestudy/idd20k_lite/unet_keras_img_generator_adam.h5\n",
            "44/44 [==============================] - 43s 971ms/step - loss: 0.7408 - acc: 0.7301 - val_loss: 1.1759 - val_acc: 0.6425\n",
            "Epoch 11/50\n",
            "43/44 [============================>.] - ETA: 0s - loss: 0.7228 - acc: 0.7366Epoch 1/50\n",
            " 7/44 [===>..........................] - ETA: 14s - loss: 1.0115 - acc: 0.6691\n",
            "Epoch 00011: val_loss improved from 1.17591 to 1.01148, saving model to /content/gdrive/My Drive/AppliedAI Dataset/IDD Casestudy/idd20k_lite/unet_keras_img_generator_adam.h5\n",
            "44/44 [==============================] - 41s 926ms/step - loss: 0.7257 - acc: 0.7355 - val_loss: 1.0115 - val_acc: 0.6691\n",
            "Epoch 12/50\n",
            "43/44 [============================>.] - ETA: 0s - loss: 0.7247 - acc: 0.7338Epoch 1/50\n",
            " 7/44 [===>..........................] - ETA: 13s - loss: 1.1873 - acc: 0.6152\n",
            "Epoch 00012: val_loss did not improve from 1.01148\n",
            "44/44 [==============================] - 36s 825ms/step - loss: 0.7272 - acc: 0.7330 - val_loss: 1.1873 - val_acc: 0.6152\n",
            "Epoch 13/50\n",
            "43/44 [============================>.] - ETA: 0s - loss: 0.7224 - acc: 0.7378Epoch 1/50\n",
            " 7/44 [===>..........................] - ETA: 15s - loss: 1.0189 - acc: 0.6733\n",
            "Epoch 00013: val_loss did not improve from 1.01148\n",
            "44/44 [==============================] - 37s 832ms/step - loss: 0.7259 - acc: 0.7365 - val_loss: 1.0189 - val_acc: 0.6733\n",
            "Epoch 14/50\n",
            "43/44 [============================>.] - ETA: 0s - loss: 0.7020 - acc: 0.7479Epoch 1/50\n",
            " 7/44 [===>..........................] - ETA: 14s - loss: 1.4951 - acc: 0.5430\n",
            "Epoch 00014: val_loss did not improve from 1.01148\n",
            "44/44 [==============================] - 37s 831ms/step - loss: 0.7048 - acc: 0.7473 - val_loss: 1.4951 - val_acc: 0.5430\n",
            "Epoch 15/50\n",
            "43/44 [============================>.] - ETA: 0s - loss: 0.6942 - acc: 0.7466Epoch 1/50\n",
            " 7/44 [===>..........................] - ETA: 13s - loss: 2.5664 - acc: 0.4564\n",
            "Epoch 00015: val_loss did not improve from 1.01148\n",
            "44/44 [==============================] - 36s 827ms/step - loss: 0.6967 - acc: 0.7459 - val_loss: 2.5664 - val_acc: 0.4564\n",
            "Epoch 16/50\n",
            "43/44 [============================>.] - ETA: 0s - loss: 0.6880 - acc: 0.7518Epoch 1/50\n",
            " 7/44 [===>..........................] - ETA: 14s - loss: 1.1150 - acc: 0.6016\n",
            "Epoch 00016: val_loss did not improve from 1.01148\n",
            "Restoring model weights from the end of the best epoch.\n",
            "\n",
            "Epoch 00016: ReduceLROnPlateau reducing learning rate to 0.0019999999552965165.\n",
            "44/44 [==============================] - 39s 881ms/step - loss: 0.6898 - acc: 0.7515 - val_loss: 1.1150 - val_acc: 0.6016\n",
            "Epoch 00016: early stopping\n"
          ],
          "name": "stdout"
        }
      ]
    },
    {
      "cell_type": "code",
      "metadata": {
        "id": "-BVquRbntkU5"
      },
      "source": [
        "filepath = dataset_path+\"unet_keras_img_generator_adam_2.h5\"\n",
        "\n",
        "checkpoint = ModelCheckpoint(filepath,\n",
        "                             monitor=\"val_loss\",\n",
        "                             mode=\"min\",\n",
        "                             save_best_only = True,\n",
        "                             verbose=1)\n",
        "\n",
        "earlystop = EarlyStopping(monitor = 'val_loss',\n",
        "                            mode=\"min\",\n",
        "                            min_delta = 0,\n",
        "                            patience = 5,\n",
        "                            verbose = 1,\n",
        "                            restore_best_weights = True)\n",
        "\n",
        "reduce_lr = ReduceLROnPlateau(monitor = 'val_loss', factor = 0.2, patience = 5, verbose = 1, min_delta = 0.0001)\n",
        "#logdir = os.path.join(logs_base_dir, datetime.datetime.now().strftime(\"%Y%m%d-%H%M%S\"))\n",
        "#tensorboard_callback = tf.keras.callbacks.TensorBoard(logdir, histogram_freq=1)\n",
        "#callbacks = [checkpoint, earlystop , reduce_lr,tensorboard_callback]\n",
        "callbacks = [checkpoint, earlystop , reduce_lr]\n"
      ],
      "execution_count": null,
      "outputs": []
    },
    {
      "cell_type": "code",
      "metadata": {
        "id": "L8vnHJXhZGr9"
      },
      "source": [
        "adam = optimizers.Adam(lr = 2e-4)\n",
        "\n",
        "model.compile(loss = 'categorical_crossentropy',\n",
        "              optimizer = adam,\n",
        "              metrics = ['accuracy'])"
      ],
      "execution_count": null,
      "outputs": []
    },
    {
      "cell_type": "code",
      "metadata": {
        "id": "VY4Va0XnZqjv"
      },
      "source": [
        "model.load_weights(dataset_path+'unet_keras_img_generator_adam.h5')\n",
        "hist2 = model.fit_generator(train_gen, steps_per_epoch = (np.ceil(len(train_image_paths)/32)),\n",
        "                  validation_data=val_gen, validation_steps=(np.ceil(len(val_image_paths)/32)),\n",
        "                   callbacks=callbacks,\n",
        "                   epochs = 50, verbose = 1)"
      ],
      "execution_count": null,
      "outputs": []
    },
    {
      "cell_type": "markdown",
      "metadata": {
        "id": "iL0Tc-Yp03Tz"
      },
      "source": [
        "**Experimenting with Further Reduction of Learning Rate**\n",
        "\n",
        "In an attempt to enhance model performance, the learning rate is being reduced even further to explore potential improvements in training outcomes."
      ]
    },
    {
      "cell_type": "code",
      "metadata": {
        "id": "S2g-pseluxhV"
      },
      "source": [
        "filepath = dataset_path+\"unet_keras_img_generator_batch_adam_3.h5\"\n",
        "\n",
        "checkpoint = ModelCheckpoint(filepath,\n",
        "                             monitor=\"val_loss\",\n",
        "                             mode=\"min\",\n",
        "                             save_best_only = True,\n",
        "                             verbose=1)\n",
        "\n",
        "\n",
        "earlystop = EarlyStopping(monitor = 'val_loss',\n",
        "                            mode=\"min\",\n",
        "                            min_delta = 0,\n",
        "                            patience = 5,\n",
        "                            verbose = 1,\n",
        "                            restore_best_weights = True)\n",
        "reduce_lr = ReduceLROnPlateau(monitor = 'val_loss', factor = 0.2, patience = 5, verbose = 1, min_delta = 0.0001)\n",
        "\n",
        "\n",
        "#logdir = os.path.join(logs_base_dir, datetime.datetime.now().strftime(\"%Y%m%d-%H%M%S\"))\n",
        "#tensorboard_callback = tf.keras.callbacks.TensorBoard(logdir, histogram_freq=1)\n",
        "#callbacks = [checkpoint, earlystop , reduce_lr,tensorboard_callback]\n",
        "callbacks = [checkpoint, earlystop , reduce_lr]\n",
        "\n",
        "'''\n",
        "from tensorflow.keras.callbacks import ModelCheckpoint, EarlyStopping, ReduceLROnPlateau\n",
        "\n",
        "callbacks = [\n",
        "    ModelCheckpoint(\n",
        "        filepath=dataset_path + \"unet_keras_img_generator_batch_adam_3.h5\",\n",
        "        monitor=\"val_loss\",\n",
        "        mode=\"min\",\n",
        "        save_best_only=True,\n",
        "        verbose=1\n",
        "    ),\n",
        "    EarlyStopping(\n",
        "        monitor='val_loss',\n",
        "        mode=\"min\",\n",
        "        min_delta=0,\n",
        "        patience=5,\n",
        "        verbose=1,\n",
        "        restore_best_weights=True\n",
        "    ),\n",
        "    ReduceLROnPlateau(\n",
        "        monitor='val_loss',\n",
        "        factor=0.2,\n",
        "        patience=5,\n",
        "        verbose=1,\n",
        "        min_delta=0.0001\n",
        "    )\n",
        "]\n",
        "\n",
        "\n",
        "'''"
      ],
      "execution_count": null,
      "outputs": []
    },
    {
      "cell_type": "code",
      "metadata": {
        "id": "kZUhXZq1cVuI"
      },
      "source": [
        "adam = optimizers.Adam(lr = 5e-4)\n",
        "model.compile(loss = 'categorical_crossentropy',\n",
        "              optimizer = adam,\n",
        "              metrics = ['accuracy'])"
      ],
      "execution_count": null,
      "outputs": []
    },
    {
      "cell_type": "code",
      "metadata": {
        "id": "fubPhKYRXeB4"
      },
      "source": [
        "model.load_weights(dataset_path+'unet_keras_img_generator_adam_2.h5')\n",
        "hist2 = model.fit_generator(train_gen, steps_per_epoch = (np.ceil(len(train_image_paths)/25)),\n",
        "                  validation_data=val_gen, validation_steps=(np.ceil(len(val_image_paths)/25)),\n",
        "                   callbacks=callbacks,\n",
        "                   epochs = 50, verbose = 1)"
      ],
      "execution_count": null,
      "outputs": []
    },
    {
      "cell_type": "markdown",
      "metadata": {
        "id": "UQCHv7u8IfJv"
      },
      "source": [
        "### Extra steps to tune further"
      ]
    },
    {
      "cell_type": "code",
      "metadata": {
        "id": "4M2esghyIgRa"
      },
      "source": [
        "\n",
        "filepath = dataset_path+\"unet_keras_img_generator_batch_adam_33_v2.h5\"\n",
        "checkpoint = ModelCheckpoint(filepath,\n",
        "                             monitor=\"val_loss\",\n",
        "                             mode=\"min\",\n",
        "                             save_best_only = True,\n",
        "                             verbose=1)\n",
        "\n",
        "earlystop = EarlyStopping(monitor = 'val_loss',\n",
        "                            mode=\"min\",\n",
        "                            min_delta = 0,\n",
        "                            patience = 5,\n",
        "                            verbose = 1,\n",
        "                            restore_best_weights = True)\n",
        "\n",
        "reduce_lr = ReduceLROnPlateau(monitor = 'val_loss', factor = 0.2, patience = 5, verbose = 1, min_delta = 0.0001)\n",
        "\n",
        "#logdir = os.path.join(logs_base_dir, datetime.datetime.now().strftime(\"%Y%m%d-%H%M%S\"))\n",
        "#tensorboard_callback = tf.keras.callbacks.TensorBoard(logdir, histogram_freq=1)\n",
        "#callbacks = [checkpoint, earlystop , reduce_lr,tensorboard_callback]\n",
        "callbacks = [checkpoint, earlystop , reduce_lr]\n"
      ],
      "execution_count": null,
      "outputs": []
    },
    {
      "cell_type": "code",
      "metadata": {
        "id": "KXjOc7DmIgRt"
      },
      "source": [
        "adam = optimizers.Adam(lr = 1e-3)\n",
        "model.compile(loss = 'categorical_crossentropy',\n",
        "              optimizer = adam,\n",
        "              metrics = ['accuracy'])"
      ],
      "execution_count": null,
      "outputs": []
    },
    {
      "cell_type": "code",
      "metadata": {
        "id": "NrBWYplEIgR4"
      },
      "source": [
        "\n",
        "\n",
        "hist2 = model.fit_generator(train_gen, steps_per_epoch = (np.ceil(len(train_image_paths)/32)),\n",
        "                  validation_data=val_gen, validation_steps=(np.ceil(len(val_image_paths)/32)),\n",
        "                   callbacks=callbacks,\n",
        "                   epochs = 50, verbose = 1)"
      ],
      "execution_count": null,
      "outputs": []
    },
    {
      "cell_type": "markdown",
      "metadata": {
        "id": "MMO996pCKz1q"
      },
      "source": [
        "\n",
        "### Adjusting Learning Rate for Improved Results\n",
        "\n",
        "The learning rate is being decreased in an effort to determine if it leads to enhanced performance during training."
      ]
    },
    {
      "cell_type": "code",
      "metadata": {
        "id": "C42p4-yZKz1y"
      },
      "source": [
        "\n",
        "filepath = dataset_path+\"unet_keras_img_generator_batch_adam_2_v2.h5\"\n",
        "\n",
        "\n",
        "checkpoint = ModelCheckpoint(filepath,\n",
        "                             monitor=\"val_loss\",\n",
        "                             mode=\"min\",\n",
        "                             save_best_only = True,\n",
        "                             verbose=1)\n",
        "\n",
        "earlystop = EarlyStopping(monitor = 'val_loss',\n",
        "                            mode=\"min\",\n",
        "                            min_delta = 0,\n",
        "                            patience = 5,\n",
        "                            verbose = 1,\n",
        "                            restore_best_weights = True)\n",
        "\n",
        "reduce_lr = ReduceLROnPlateau(monitor = 'val_loss', factor = 0.2, patience = 5, verbose = 1, min_delta = 0.0001)\n",
        "\n",
        "\n",
        "logdir = os.path.join(logs_base_dir, datetime.datetime.now().strftime(\"%Y%m%d-%H%M%S\"))\n",
        "tensorboard_callback = tf.keras.callbacks.TensorBoard(logdir, histogram_freq=1)\n",
        "\n",
        "callbacks = [checkpoint, earlystop , reduce_lr,tensorboard_callback]\n",
        "#callbacks = [checkpoint, earlystop , reduce_lr]\n"
      ],
      "execution_count": null,
      "outputs": []
    },
    {
      "cell_type": "code",
      "metadata": {
        "id": "FQGV7A0dKz1_"
      },
      "source": [
        "from tensorflow.keras import optimizers\n",
        "\n",
        "adam = optimizers.Adam(lr = 2e-4)\n",
        "\n",
        "model.compile(loss = 'categorical_crossentropy',\n",
        "              optimizer = adam,\n",
        "              metrics = ['accuracy'])"
      ],
      "execution_count": null,
      "outputs": []
    },
    {
      "cell_type": "code",
      "metadata": {
        "id": "igU9SNq1lfqm"
      },
      "source": [
        "\n",
        "hist2 = model.fit_generator(train_gen, steps_per_epoch = (np.ceil(len(train_image_paths)/32)),\n",
        "                  validation_data=val_gen, validation_steps=(np.ceil(len(val_image_paths)/32)),\n",
        "                   callbacks=callbacks,\n",
        "                   epochs = 50, verbose = 1)"
      ],
      "execution_count": null,
      "outputs": []
    },
    {
      "cell_type": "code",
      "metadata": {
        "id": "Eg2ry-B1C24N"
      },
      "source": [
        "model.load_weights(dataset_path+'unet_keras_img_generator_batch_adam_2_v2.h5')\n",
        "\n"
      ],
      "execution_count": null,
      "outputs": []
    },
    {
      "cell_type": "code",
      "metadata": {
        "id": "o8HtYtcB47D9"
      },
      "source": [
        "def IoU(Yi,y_predi):\n",
        "    ## mean Intersection over Union\n",
        "    ## Mean IoU = TP/(FN + TP + FP)\n",
        "\n",
        "    IoUs = []\n",
        "    Nclass = 7\n",
        "    for c in range(Nclass):\n",
        "        TP = np.sum( (Yi == c)&(y_predi==c) )\n",
        "        FP = np.sum( (Yi != c)&(y_predi==c) )\n",
        "        FN = np.sum( (Yi == c)&(y_predi != c))\n",
        "        IoU = TP/float(TP + FP + FN)\n",
        "        print(\"class {:02.0f}: #TP={:6.0f}, #FP={:6.0f}, #FN={:5.0f}, IoU={:4.3f}\".format(c,TP,FP,FN,IoU))\n",
        "        IoUs.append(IoU)\n",
        "    mIoU = np.mean(IoUs)\n",
        "    print(\"_________________\")\n",
        "    print(\"Mean IoU: {:4.3f}\".format(mIoU))\n"
      ],
      "execution_count": null,
      "outputs": []
    },
    {
      "cell_type": "code",
      "metadata": {
        "id": "n7iy0xVogki7"
      },
      "source": [
        "\n",
        "x_val , y_val = get_image_and_segmentation_arrays(val_image_paths,val_seg_paths)"
      ],
      "execution_count": null,
      "outputs": []
    },
    {
      "cell_type": "code",
      "metadata": {
        "id": "un5SZAfXgkjL"
      },
      "source": [
        "x_val , y_val = np.array(x_val) , np.array(y_val)"
      ],
      "execution_count": null,
      "outputs": []
    },
    {
      "cell_type": "code",
      "metadata": {
        "outputId": "c59f3c49-4554-4db0-dcda-7fda505b0d8a",
        "id": "KwrZnrKrgkjT",
        "colab": {
          "base_uri": "https://localhost:8080/",
          "height": 34
        }
      },
      "source": [
        "x_val.shape , y_val.shape"
      ],
      "execution_count": null,
      "outputs": [
        {
          "output_type": "execute_result",
          "data": {
            "text/plain": [
              "((204, 128, 256, 3), (204, 128, 256, 8))"
            ]
          },
          "metadata": {
            "tags": []
          },
          "execution_count": 30
        }
      ]
    },
    {
      "cell_type": "code",
      "metadata": {
        "outputId": "74211ba0-3f39-4eca-c781-e7608450e041",
        "id": "EuuvoPjq47Ed",
        "colab": {
          "base_uri": "https://localhost:8080/",
          "height": 34
        }
      },
      "source": [
        "y_pred = model.predict(x_val)\n",
        "y_predi = np.argmax(y_pred, axis=3)\n",
        "y_testi = np.argmax(y_val, axis=3)\n",
        "print(y_testi.shape,y_predi.shape)\n"
      ],
      "execution_count": null,
      "outputs": [
        {
          "output_type": "stream",
          "text": [
            "(204, 128, 256) (204, 128, 256)\n"
          ],
          "name": "stdout"
        }
      ]
    },
    {
      "cell_type": "code",
      "metadata": {
        "id": "hRNOIk7didFL",
        "outputId": "f46c198d-5cb6-49d1-d9e3-a3f67b9d2917",
        "colab": {
          "base_uri": "https://localhost:8080/",
          "height": 170
        }
      },
      "source": [
        "IoU(y_testi,y_predi)"
      ],
      "execution_count": null,
      "outputs": [
        {
          "output_type": "stream",
          "text": [
            "class 00: #TP=2042313, #FP=103753, #FN=64647, IoU=0.924\n",
            "class 01: #TP= 77596, #FP= 68099, #FN=95316, IoU=0.322\n",
            "class 02: #TP= 41737, #FP= 16540, #FN=85096, IoU=0.291\n",
            "class 03: #TP=454668, #FP= 96868, #FN=118377, IoU=0.679\n",
            "class 04: #TP=418813, #FP=267093, #FN=379605, IoU=0.393\n",
            "class 05: #TP=1397542, #FP=364254, #FN=182835, IoU=0.719\n",
            "class 06: #TP=1292264, #FP= 43132, #FN=33236, IoU=0.944\n",
            "_________________\n",
            "Mean IoU: 0.610\n"
          ],
          "name": "stdout"
        }
      ]
    },
    {
      "cell_type": "markdown",
      "metadata": {
        "id": "BwWIr_7rmbQB"
      },
      "source": [
        "### mIoU on Train data\n",
        "\n",
        "\n",
        "Calculating the mean Intersection over Union (mIoU) provides a measure of segmentation accuracy across all classes on the training dataset. This metric helps evaluate the effectiveness of the segmentation model during the training process."
      ]
    },
    {
      "cell_type": "code",
      "metadata": {
        "id": "bHfiHcTvuLJg",
        "outputId": "831bea48-ebda-4f12-c122-4a4c15a36be9",
        "colab": {
          "base_uri": "https://localhost:8080/",
          "height": 51
        }
      },
      "source": [
        "%%time\n",
        "\n",
        "x_train , y_train = get_image_and_segmentation_arrays(train_image_paths,train_seg_paths)"
      ],
      "execution_count": null,
      "outputs": [
        {
          "output_type": "stream",
          "text": [
            "CPU times: user 7.72 s, sys: 3.15 s, total: 10.9 s\n",
            "Wall time: 13min 47s\n"
          ],
          "name": "stdout"
        }
      ]
    },
    {
      "cell_type": "code",
      "metadata": {
        "id": "wCKbYgVumgGX"
      },
      "source": [
        "x_train , y_train = np.array(x_train) , np.array(y_train)"
      ],
      "execution_count": null,
      "outputs": []
    },
    {
      "cell_type": "code",
      "metadata": {
        "id": "lDlteTU2mgOI",
        "outputId": "954fecc8-809f-46dd-f14e-82e14f05b5d0",
        "colab": {
          "base_uri": "https://localhost:8080/",
          "height": 34
        }
      },
      "source": [
        "x_train.shape ,y_train.shape"
      ],
      "execution_count": null,
      "outputs": [
        {
          "output_type": "execute_result",
          "data": {
            "text/plain": [
              "((1403, 128, 256, 3), (1403, 128, 256, 8))"
            ]
          },
          "metadata": {
            "tags": []
          },
          "execution_count": 35
        }
      ]
    },
    {
      "cell_type": "code",
      "metadata": {
        "id": "rTJKhgNCm2K0",
        "outputId": "9b1421b8-41f4-49f1-ada7-ade96359352a",
        "colab": {
          "base_uri": "https://localhost:8080/",
          "height": 34
        }
      },
      "source": [
        "y_pred = model.predict(x_train)\n",
        "y_predi = np.argmax(y_pred, axis=3)\n",
        "y_testi = np.argmax(y_train, axis=3)\n",
        "print(y_testi.shape,y_predi.shape)"
      ],
      "execution_count": null,
      "outputs": [
        {
          "output_type": "stream",
          "text": [
            "(1403, 128, 256) (1403, 128, 256)\n"
          ],
          "name": "stdout"
        }
      ]
    },
    {
      "cell_type": "code",
      "metadata": {
        "id": "Fk09CsKyAMRQ",
        "outputId": "5b1828b8-ab84-487f-cff6-9bc100f8c75b",
        "colab": {
          "base_uri": "https://localhost:8080/",
          "height": 170
        }
      },
      "source": [
        "# adam_opt\n",
        "\n",
        "IoU(y_testi,y_predi)"
      ],
      "execution_count": null,
      "outputs": [
        {
          "output_type": "stream",
          "text": [
            "class 00: #TP=14529519, #FP=417652, #FN=235653, IoU=0.957\n",
            "class 01: #TP=710311, #FP=242550, #FN=373027, IoU=0.536\n",
            "class 02: #TP=281124, #FP= 70864, #FN=460316, IoU=0.346\n",
            "class 03: #TP=3242252, #FP=359370, #FN=489050, IoU=0.793\n",
            "class 04: #TP=3852890, #FP=1010278, #FN=1295666, IoU=0.626\n",
            "class 05: #TP=11283402, #FP=1347228, #FN=643220, IoU=0.850\n",
            "class 06: #TP=8411427, #FP=214637, #FN=163210, IoU=0.957\n",
            "_________________\n",
            "Mean IoU: 0.723\n"
          ],
          "name": "stdout"
        }
      ]
    },
    {
      "cell_type": "markdown",
      "metadata": {
        "id": "YL2kqaF53dIG"
      },
      "source": [
        "### Generating segmentation maps for test data\n"
      ]
    },
    {
      "cell_type": "code",
      "metadata": {
        "id": "cOzkK3noPXLq"
      },
      "source": [
        "\n",
        "img_test = dataset_path+'leftImg8bit/test/'\n",
        "\n",
        "test_image_paths = load_image_paths_from_folder(img_test)\n",
        "test_seg_paths = [p.replace('leftImg8bit/test', 'output').replace(\n",
        "    '_image.jpg', '_label.png') for p in test_image_paths]"
      ],
      "execution_count": null,
      "outputs": []
    },
    {
      "cell_type": "code",
      "metadata": {
        "id": "EMK7GDgPW4W4"
      },
      "source": [
        "test_seg_dirs = [p.replace(p.split('/')[-1],'' ) for p in test_seg_paths]"
      ],
      "execution_count": null,
      "outputs": []
    },
    {
      "cell_type": "code",
      "metadata": {
        "id": "wvcdlkT5PYNS"
      },
      "source": [
        "x_test=[]\n",
        "\n",
        "for img_path  in test_image_paths:\n",
        "    x_test.append(getImageArr(img_path,input_width,input_height))"
      ],
      "execution_count": null,
      "outputs": []
    },
    {
      "cell_type": "code",
      "metadata": {
        "id": "qqDhC5gFUfP-"
      },
      "source": [
        "x_test = np.array(x_test)\n"
      ],
      "execution_count": null,
      "outputs": []
    },
    {
      "cell_type": "code",
      "metadata": {
        "id": "jy4Hkm1Fp9Xu",
        "outputId": "9293958d-9e8a-4e94-9508-1bfb293a770d",
        "colab": {
          "base_uri": "https://localhost:8080/",
          "height": 34
        }
      },
      "source": [
        "x_test.shape"
      ],
      "execution_count": null,
      "outputs": [
        {
          "output_type": "execute_result",
          "data": {
            "text/plain": [
              "(404, 128, 256, 3)"
            ]
          },
          "metadata": {
            "tags": []
          },
          "execution_count": 17
        }
      ]
    },
    {
      "cell_type": "code",
      "metadata": {
        "id": "VOyqJpw8qAGd",
        "outputId": "6bd35a49-457f-4e89-c053-8be14cf6576c",
        "colab": {
          "base_uri": "https://localhost:8080/",
          "height": 34
        }
      },
      "source": [
        "y_out = model.predict(x_test)\n",
        "y_outi = np.argmax(y_out, axis=3)\n",
        "print(y_outi.shape,y_out.shape)"
      ],
      "execution_count": null,
      "outputs": [
        {
          "output_type": "stream",
          "text": [
            "(404, 128, 256) (404, 128, 256, 8)\n"
          ],
          "name": "stdout"
        }
      ]
    },
    {
      "cell_type": "code",
      "metadata": {
        "id": "Ia4RYjxNUJLr"
      },
      "source": [
        "#model used: unet_keras_img_generator_batch_adam_2_v2: cv - 0.610\n",
        "\n",
        "for i in range(len(test_seg_paths)):\n",
        "  if not os.path.exists(test_seg_dirs[i]):\n",
        "    os.makedirs(test_seg_dirs[i])\n",
        "  cv2.imwrite(test_seg_paths[i],y_outi[i])"
      ],
      "execution_count": null,
      "outputs": []
    },
    {
      "cell_type": "markdown",
      "metadata": {
        "id": "aoSHIUjsbtuL"
      },
      "source": [
        "### Testing"
      ]
    },
    {
      "cell_type": "code",
      "metadata": {
        "id": "DiYmhpyDZnki"
      },
      "source": [
        "for i in range(len(y)):\n",
        "    for j in range(len(y[0])):\n",
        "        if y[i][j] != 0 or y[i][j] != 255:\n",
        "            y[i][j] *= 40\n"
      ],
      "execution_count": null,
      "outputs": []
    },
    {
      "cell_type": "code",
      "metadata": {
        "id": "HGFx_GgebYIE",
        "outputId": "10c6c404-21f1-43b5-e52c-afe3ad0c0db0",
        "colab": {
          "base_uri": "https://localhost:8080/",
          "height": 236
        }
      },
      "source": [
        "plt.imshow(x_test[3])"
      ],
      "execution_count": null,
      "outputs": [
        {
          "output_type": "execute_result",
          "data": {
            "text/plain": [
              "<matplotlib.image.AxesImage at 0x7f8dba39d940>"
            ]
          },
          "metadata": {
            "tags": []
          },
          "execution_count": 37
        },
        {
          "output_type": "display_data",
          "data": {
            "image/png": "[encoded data removed]",
            "text/plain": [
              "<Figure size 432x288 with 1 Axes>"
            ]
          },
          "metadata": {
            "tags": []
          }
        }
      ]
    },
    {
      "cell_type": "code",
      "metadata": {
        "id": "ua22T2yYaP7z"
      },
      "source": [
        "y = y_outi[3]"
      ],
      "execution_count": null,
      "outputs": []
    },
    {
      "cell_type": "markdown",
      "source": [],
      "metadata": {
        "id": "nR4mVibMw20J"
      }
    },
    {
      "cell_type": "code",
      "metadata": {
        "id": "Cg2tz_yDZ3tZ",
        "outputId": "e0f4b262-bd86-411a-d756-c1e792d7deb0",
        "colab": {
          "base_uri": "https://localhost:8080/",
          "height": 236
        }
      },
      "source": [
        "plt.imshow(y)"
      ],
      "execution_count": null,
      "outputs": [
        {
          "output_type": "execute_result",
          "data": {
            "text/plain": [
              "<matplotlib.image.AxesImage at 0x7f8dba3045f8>"
            ]
          },
          "metadata": {
            "tags": []
          },
          "execution_count": 40
        },
        {
          "output_type": "display_data",
          "data": {
            "image/png": "[encoded data removed]",
            "text/plain": [
              "<Figure size 432x288 with 1 Axes>"
            ]
          },
          "metadata": {
            "tags": []
          }
        }
      ]
    },
    {
      "cell_type": "markdown",
      "source": [],
      "metadata": {
        "id": "bWVo6BQtw64L"
      }
    }
  ]
}